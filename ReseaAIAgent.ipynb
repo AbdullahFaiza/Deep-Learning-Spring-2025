{
  "nbformat": 4,
  "nbformat_minor": 0,
  "metadata": {
    "colab": {
      "provenance": []
    },
    "kernelspec": {
      "name": "python3",
      "display_name": "Python 3"
    },
    "language_info": {
      "name": "python"
    },
    "widgets": {
      "application/vnd.jupyter.widget-state+json": {
        "ce2b116c453b485e81263513bed551d1": {
          "model_module": "@jupyter-widgets/controls",
          "model_name": "HBoxModel",
          "model_module_version": "1.5.0",
          "state": {
            "_dom_classes": [],
            "_model_module": "@jupyter-widgets/controls",
            "_model_module_version": "1.5.0",
            "_model_name": "HBoxModel",
            "_view_count": null,
            "_view_module": "@jupyter-widgets/controls",
            "_view_module_version": "1.5.0",
            "_view_name": "HBoxView",
            "box_style": "",
            "children": [
              "IPY_MODEL_b204d03a62654f72a072987f82ef5952",
              "IPY_MODEL_f034482c98a6442b8d0555b0b80ba2bb",
              "IPY_MODEL_619f48df53804a8bb6c100188545bca5"
            ],
            "layout": "IPY_MODEL_ee5b6c0fb2c3482c95e0d8440562a7f6"
          }
        },
        "b204d03a62654f72a072987f82ef5952": {
          "model_module": "@jupyter-widgets/controls",
          "model_name": "HTMLModel",
          "model_module_version": "1.5.0",
          "state": {
            "_dom_classes": [],
            "_model_module": "@jupyter-widgets/controls",
            "_model_module_version": "1.5.0",
            "_model_name": "HTMLModel",
            "_view_count": null,
            "_view_module": "@jupyter-widgets/controls",
            "_view_module_version": "1.5.0",
            "_view_name": "HTMLView",
            "description": "",
            "description_tooltip": null,
            "layout": "IPY_MODEL_02c81d856bb24e75aa27f91996e274a6",
            "placeholder": "​",
            "style": "IPY_MODEL_6969b3499a074108af096cbb1a0d1119",
            "value": "config.json: 100%"
          }
        },
        "f034482c98a6442b8d0555b0b80ba2bb": {
          "model_module": "@jupyter-widgets/controls",
          "model_name": "FloatProgressModel",
          "model_module_version": "1.5.0",
          "state": {
            "_dom_classes": [],
            "_model_module": "@jupyter-widgets/controls",
            "_model_module_version": "1.5.0",
            "_model_name": "FloatProgressModel",
            "_view_count": null,
            "_view_module": "@jupyter-widgets/controls",
            "_view_module_version": "1.5.0",
            "_view_name": "ProgressView",
            "bar_style": "success",
            "description": "",
            "description_tooltip": null,
            "layout": "IPY_MODEL_520f5522533b458ebccd12ad7fc9e711",
            "max": 1585,
            "min": 0,
            "orientation": "horizontal",
            "style": "IPY_MODEL_dcd7a3fadd4c4beebe4d371c691df89f",
            "value": 1585
          }
        },
        "619f48df53804a8bb6c100188545bca5": {
          "model_module": "@jupyter-widgets/controls",
          "model_name": "HTMLModel",
          "model_module_version": "1.5.0",
          "state": {
            "_dom_classes": [],
            "_model_module": "@jupyter-widgets/controls",
            "_model_module_version": "1.5.0",
            "_model_name": "HTMLModel",
            "_view_count": null,
            "_view_module": "@jupyter-widgets/controls",
            "_view_module_version": "1.5.0",
            "_view_name": "HTMLView",
            "description": "",
            "description_tooltip": null,
            "layout": "IPY_MODEL_b3cedac05a134ffbb85102a2a7f574cd",
            "placeholder": "​",
            "style": "IPY_MODEL_ea6e01510fda4a42bda42e2d43c6e6df",
            "value": " 1.58k/1.58k [00:00&lt;00:00, 36.2kB/s]"
          }
        },
        "ee5b6c0fb2c3482c95e0d8440562a7f6": {
          "model_module": "@jupyter-widgets/base",
          "model_name": "LayoutModel",
          "model_module_version": "1.2.0",
          "state": {
            "_model_module": "@jupyter-widgets/base",
            "_model_module_version": "1.2.0",
            "_model_name": "LayoutModel",
            "_view_count": null,
            "_view_module": "@jupyter-widgets/base",
            "_view_module_version": "1.2.0",
            "_view_name": "LayoutView",
            "align_content": null,
            "align_items": null,
            "align_self": null,
            "border": null,
            "bottom": null,
            "display": null,
            "flex": null,
            "flex_flow": null,
            "grid_area": null,
            "grid_auto_columns": null,
            "grid_auto_flow": null,
            "grid_auto_rows": null,
            "grid_column": null,
            "grid_gap": null,
            "grid_row": null,
            "grid_template_areas": null,
            "grid_template_columns": null,
            "grid_template_rows": null,
            "height": null,
            "justify_content": null,
            "justify_items": null,
            "left": null,
            "margin": null,
            "max_height": null,
            "max_width": null,
            "min_height": null,
            "min_width": null,
            "object_fit": null,
            "object_position": null,
            "order": null,
            "overflow": null,
            "overflow_x": null,
            "overflow_y": null,
            "padding": null,
            "right": null,
            "top": null,
            "visibility": null,
            "width": null
          }
        }
      }
    },
    "cells": [
      {
        "cell_type": "code",
        "execution_count": 1,
        "metadata": {
          "colab": {
            "base_uri": "https://localhost:8080/"
          },
          "id": "0N0vs99N2Iog",
          "outputId": "80d08e2f-c3cd-4487-cd74-dbcca5a00a63"
        },
        "outputs": [
          {
            "output_type": "stream",
            "name": "stdout",
            "text": [
              "\u001b[33mWARNING: Skipping serpapi as it is not installed.\u001b[0m\u001b[33m\n",
              "\u001b[0m  Preparing metadata (setup.py) ... \u001b[?25l\u001b[?25hdone\n",
              "  Preparing metadata (setup.py) ... \u001b[?25l\u001b[?25hdone\n",
              "  Preparing metadata (setup.py) ... \u001b[?25l\u001b[?25hdone\n",
              "\u001b[2K     \u001b[90m━━━━━━━━━━━━━━━━━━━━━━━━━━━━━━━━━━━━━━━━\u001b[0m \u001b[32m7.4/7.4 MB\u001b[0m \u001b[31m35.1 MB/s\u001b[0m eta \u001b[36m0:00:00\u001b[0m\n",
              "\u001b[?25h  Preparing metadata (setup.py) ... \u001b[?25l\u001b[?25hdone\n",
              "  Preparing metadata (setup.py) ... \u001b[?25l\u001b[?25hdone\n",
              "  Preparing metadata (setup.py) ... \u001b[?25l\u001b[?25hdone\n",
              "\u001b[2K   \u001b[90m━━━━━━━━━━━━━━━━━━━━━━━━━━━━━━━━━━━━━━━━\u001b[0m \u001b[32m7.4/7.4 MB\u001b[0m \u001b[31m35.1 MB/s\u001b[0m eta \u001b[36m0:00:00\u001b[0m\n"
            ]
          }
        ],
        "source": [
          "import os\n",
          "os.system('pip install -U -q serpapi')"
        ]
      }
    ]
  }
}
