{
  "nbformat": 4,
  "nbformat_minor": 0,
  "metadata": {
    "colab": {
      "provenance": []
    },
    "kernelspec": {
      "name": "python3",
      "display_name": "Python 3"
    },
    "language_info": {
      "name": "python"
    }
  },
  "cells": [
    {
      "cell_type": "code",
      "execution_count": 1,
      "id": "b9cd557f",
      "metadata": {},
      "outputs": [],
      "source": [
        "# Your code and text here\n",
        "import numpy as np\n",
        "import pandas as pd\n",
        "from sklearn.model_selection import train_test_split\n",
        "# More code follows...\n"
      ]
    },
    {
      "cell_type": "markdown",
      "metadata": {},
      "source": [
        "## Example markdown text\n",
        "This section can contain explanations and code comments.\n",
        "This is how you format markdown in Jupyter notebooks.\n"
      ]
    },
    {
      "cell_type": "code",
      "execution_count": 2,
      "id": "c7bd542c",
      "metadata": {},
      "outputs": [],
      "source": [
        "# Further code follows...\n",
        "def example_function(x):\n",
        "    return x**2\n",
        "example_function(4)"
      ]
    }
  ]
}
