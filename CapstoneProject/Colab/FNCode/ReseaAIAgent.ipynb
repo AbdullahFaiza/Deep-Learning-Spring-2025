{
  "nbformat": 4,
  "nbformat_minor": 0,
  "metadata": {
    "colab": {
      "provenance": [],
      "authorship_tag": "ABX9TyMSuZ0A9N35vyl1NkExku67",
      "include_colab_link": true
    },
    "kernelspec": {
      "name": "python3",
      "display_name": "Python 3"
    },
    "language_info": {
      "name": "python"
    }
  },
  "cells": [
    {
      "cell_type": "markdown",
      "metadata": {
        "id": "view-in-github",
        "colab_type": "text"
      },
      "source": [
        "<a href=\"https://colab.research.google.com/github/AbdullahFaiza/Deep-Learning-Spring-2025/blob/main/CapstoneProject/Colab/FNCode/ReseaAIAgent.ipynb\" target=\"_parent\"><img src=\"https://colab.research.google.com/assets/colab-badge.svg\" alt=\"Open In Colab\"/></a>"
      ]
    },
    {
      "cell_type": "markdown",
      "source": [
        "# **PROJECT RESEA - A VIRTUAL RESEARCH AGENT**\n",
        "\n",
        "# Resea is a Virtual Research Assistant built to automate and streamline research workflows.\n",
        "# This assistant is capable of:\n",
        "# 1. Fetching data from the web using a Google search via SerpAPI.\n",
        "# 2. Summarizing research articles and other content using Hugging Face transformers.\n",
        "# 3. Generating a professional research report in DOCX and PDF formats, including citations and sources.\n",
        "# 4. Offering a simple web interface through Gradio for users to interact with.\n",
        "\n",
        "# The goal of this project is to simplify research tasks, enabling students, professionals, and researchers to efficiently gather, summarize, and report relevant data for any given topic."
      ],
      "metadata": {
        "id": "g9LTksozF_SQ"
      }
    },
    {
      "cell_type": "markdown",
      "source": [
        "# **Pip Install Section:**"
      ],
      "metadata": {
        "id": "bIXMbTfBG7bA"
      }
    },
    {
      "cell_type": "code",
      "source": [
        "# === Install Dependencies ===\n",
        "# Make sure to install the necessary dependencies before running the notebook.\n",
        "# These libraries are required for fetching search results, summarizing the content, generating reports and creating a web interface.\n",
        "\n",
        "# To avoid issues with widgets or notebooks on GitHub, installed the required versions of nbformat and ipywidgets:\n",
        "!pip install nbformat==4.2.0 ipywidgets\n",
        "\n",
        "# Install essential libraries\n",
        "!pip uninstall -y serpapi -q\n",
        "!pip install -q google-search-results transformers newspaper3k wikipedia python-docx lxml[html_clean] reportlab gradio\n"
      ],
      "metadata": {
        "colab": {
          "base_uri": "https://localhost:8080/"
        },
        "id": "9RLeiQkZS40f",
        "outputId": "8ae12902-21f0-4dfe-c803-ef2222934973"
      },
      "execution_count": 1,
      "outputs": [
        {
          "output_type": "stream",
          "name": "stdout",
          "text": [
            "Requirement already satisfied: nbformat==4.2.0 in /usr/local/lib/python3.11/dist-packages (4.2.0)\n",
            "Requirement already satisfied: ipywidgets in /usr/local/lib/python3.11/dist-packages (7.7.1)\n",
            "Requirement already satisfied: ipython-genutils in /usr/local/lib/python3.11/dist-packages (from nbformat==4.2.0) (0.2.0)\n",
            "Requirement already satisfied: jsonschema!=2.5.0,>=2.4 in /usr/local/lib/python3.11/dist-packages (from nbformat==4.2.0) (4.23.0)\n",
            "Requirement already satisfied: jupyter-core in /usr/local/lib/python3.11/dist-packages (from nbformat==4.2.0) (5.7.2)\n",
            "Requirement already satisfied: traitlets>=4.1 in /usr/local/lib/python3.11/dist-packages (from nbformat==4.2.0) (5.7.1)\n",
            "Requirement already satisfied: ipykernel>=4.5.1 in /usr/local/lib/python3.11/dist-packages (from ipywidgets) (6.17.1)\n",
            "Requirement already satisfied: widgetsnbextension~=3.6.0 in /usr/local/lib/python3.11/dist-packages (from ipywidgets) (3.6.10)\n",
            "Requirement already satisfied: ipython>=4.0.0 in /usr/local/lib/python3.11/dist-packages (from ipywidgets) (7.34.0)\n",
            "Requirement already satisfied: jupyterlab-widgets>=1.0.0 in /usr/local/lib/python3.11/dist-packages (from ipywidgets) (3.0.14)\n",
            "Requirement already satisfied: debugpy>=1.0 in /usr/local/lib/python3.11/dist-packages (from ipykernel>=4.5.1->ipywidgets) (1.8.0)\n",
            "Requirement already satisfied: jupyter-client>=6.1.12 in /usr/local/lib/python3.11/dist-packages (from ipykernel>=4.5.1->ipywidgets) (6.1.12)\n",
            "Requirement already satisfied: matplotlib-inline>=0.1 in /usr/local/lib/python3.11/dist-packages (from ipykernel>=4.5.1->ipywidgets) (0.1.7)\n",
            "Requirement already satisfied: nest-asyncio in /usr/local/lib/python3.11/dist-packages (from ipykernel>=4.5.1->ipywidgets) (1.6.0)\n",
            "Requirement already satisfied: packaging in /usr/local/lib/python3.11/dist-packages (from ipykernel>=4.5.1->ipywidgets) (24.2)\n",
            "Requirement already satisfied: psutil in /usr/local/lib/python3.11/dist-packages (from ipykernel>=4.5.1->ipywidgets) (5.9.5)\n",
            "Requirement already satisfied: pyzmq>=17 in /usr/local/lib/python3.11/dist-packages (from ipykernel>=4.5.1->ipywidgets) (24.0.1)\n",
            "Requirement already satisfied: tornado>=6.1 in /usr/local/lib/python3.11/dist-packages (from ipykernel>=4.5.1->ipywidgets) (6.4.2)\n",
            "Requirement already satisfied: setuptools>=18.5 in /usr/local/lib/python3.11/dist-packages (from ipython>=4.0.0->ipywidgets) (75.2.0)\n",
            "Requirement already satisfied: jedi>=0.16 in /usr/local/lib/python3.11/dist-packages (from ipython>=4.0.0->ipywidgets) (0.19.2)\n",
            "Requirement already satisfied: decorator in /usr/local/lib/python3.11/dist-packages (from ipython>=4.0.0->ipywidgets) (4.4.2)\n",
            "Requirement already satisfied: pickleshare in /usr/local/lib/python3.11/dist-packages (from ipython>=4.0.0->ipywidgets) (0.7.5)\n",
            "Requirement already satisfied: prompt-toolkit!=3.0.0,!=3.0.1,<3.1.0,>=2.0.0 in /usr/local/lib/python3.11/dist-packages (from ipython>=4.0.0->ipywidgets) (3.0.51)\n",
            "Requirement already satisfied: pygments in /usr/local/lib/python3.11/dist-packages (from ipython>=4.0.0->ipywidgets) (2.19.1)\n",
            "Requirement already satisfied: backcall in /usr/local/lib/python3.11/dist-packages (from ipython>=4.0.0->ipywidgets) (0.2.0)\n",
            "Requirement already satisfied: pexpect>4.3 in /usr/local/lib/python3.11/dist-packages (from ipython>=4.0.0->ipywidgets) (4.9.0)\n",
            "Requirement already satisfied: attrs>=22.2.0 in /usr/local/lib/python3.11/dist-packages (from jsonschema!=2.5.0,>=2.4->nbformat==4.2.0) (25.3.0)\n",
            "Requirement already satisfied: jsonschema-specifications>=2023.03.6 in /usr/local/lib/python3.11/dist-packages (from jsonschema!=2.5.0,>=2.4->nbformat==4.2.0) (2025.4.1)\n",
            "Requirement already satisfied: referencing>=0.28.4 in /usr/local/lib/python3.11/dist-packages (from jsonschema!=2.5.0,>=2.4->nbformat==4.2.0) (0.36.2)\n",
            "Requirement already satisfied: rpds-py>=0.7.1 in /usr/local/lib/python3.11/dist-packages (from jsonschema!=2.5.0,>=2.4->nbformat==4.2.0) (0.24.0)\n",
            "Requirement already satisfied: notebook>=4.4.1 in /usr/local/lib/python3.11/dist-packages (from widgetsnbextension~=3.6.0->ipywidgets) (6.5.7)\n",
            "Requirement already satisfied: platformdirs>=2.5 in /usr/local/lib/python3.11/dist-packages (from jupyter-core->nbformat==4.2.0) (4.3.7)\n",
            "Requirement already satisfied: parso<0.9.0,>=0.8.4 in /usr/local/lib/python3.11/dist-packages (from jedi>=0.16->ipython>=4.0.0->ipywidgets) (0.8.4)\n",
            "Requirement already satisfied: python-dateutil>=2.1 in /usr/local/lib/python3.11/dist-packages (from jupyter-client>=6.1.12->ipykernel>=4.5.1->ipywidgets) (2.9.0.post0)\n",
            "Requirement already satisfied: jinja2 in /usr/local/lib/python3.11/dist-packages (from notebook>=4.4.1->widgetsnbextension~=3.6.0->ipywidgets) (3.1.6)\n",
            "Requirement already satisfied: argon2-cffi in /usr/local/lib/python3.11/dist-packages (from notebook>=4.4.1->widgetsnbextension~=3.6.0->ipywidgets) (23.1.0)\n",
            "Requirement already satisfied: nbconvert>=5 in /usr/local/lib/python3.11/dist-packages (from notebook>=4.4.1->widgetsnbextension~=3.6.0->ipywidgets) (5.2.1)\n",
            "Requirement already satisfied: Send2Trash>=1.8.0 in /usr/local/lib/python3.11/dist-packages (from notebook>=4.4.1->widgetsnbextension~=3.6.0->ipywidgets) (1.8.3)\n",
            "Requirement already satisfied: terminado>=0.8.3 in /usr/local/lib/python3.11/dist-packages (from notebook>=4.4.1->widgetsnbextension~=3.6.0->ipywidgets) (0.18.1)\n",
            "Requirement already satisfied: prometheus-client in /usr/local/lib/python3.11/dist-packages (from notebook>=4.4.1->widgetsnbextension~=3.6.0->ipywidgets) (0.21.1)\n",
            "Requirement already satisfied: nbclassic>=0.4.7 in /usr/local/lib/python3.11/dist-packages (from notebook>=4.4.1->widgetsnbextension~=3.6.0->ipywidgets) (1.3.0)\n",
            "Requirement already satisfied: ptyprocess>=0.5 in /usr/local/lib/python3.11/dist-packages (from pexpect>4.3->ipython>=4.0.0->ipywidgets) (0.7.0)\n",
            "Requirement already satisfied: wcwidth in /usr/local/lib/python3.11/dist-packages (from prompt-toolkit!=3.0.0,!=3.0.1,<3.1.0,>=2.0.0->ipython>=4.0.0->ipywidgets) (0.2.13)\n",
            "Requirement already satisfied: typing-extensions>=4.4.0 in /usr/local/lib/python3.11/dist-packages (from referencing>=0.28.4->jsonschema!=2.5.0,>=2.4->nbformat==4.2.0) (4.13.2)\n",
            "Requirement already satisfied: notebook-shim>=0.2.3 in /usr/local/lib/python3.11/dist-packages (from nbclassic>=0.4.7->notebook>=4.4.1->widgetsnbextension~=3.6.0->ipywidgets) (0.2.4)\n",
            "Requirement already satisfied: bleach in /usr/local/lib/python3.11/dist-packages (from nbconvert>=5->notebook>=4.4.1->widgetsnbextension~=3.6.0->ipywidgets) (6.2.0)\n",
            "Requirement already satisfied: entrypoints>=0.2.2 in /usr/local/lib/python3.11/dist-packages (from nbconvert>=5->notebook>=4.4.1->widgetsnbextension~=3.6.0->ipywidgets) (0.4)\n",
            "Requirement already satisfied: mistune!=0.6 in /usr/local/lib/python3.11/dist-packages (from nbconvert>=5->notebook>=4.4.1->widgetsnbextension~=3.6.0->ipywidgets) (3.1.3)\n",
            "Requirement already satisfied: pandocfilters>=1.4.1 in /usr/local/lib/python3.11/dist-packages (from nbconvert>=5->notebook>=4.4.1->widgetsnbextension~=3.6.0->ipywidgets) (1.5.1)\n",
            "Requirement already satisfied: testpath in /usr/local/lib/python3.11/dist-packages (from nbconvert>=5->notebook>=4.4.1->widgetsnbextension~=3.6.0->ipywidgets) (0.6.0)\n",
            "Requirement already satisfied: six>=1.5 in /usr/local/lib/python3.11/dist-packages (from python-dateutil>=2.1->jupyter-client>=6.1.12->ipykernel>=4.5.1->ipywidgets) (1.17.0)\n",
            "Requirement already satisfied: argon2-cffi-bindings in /usr/local/lib/python3.11/dist-packages (from argon2-cffi->notebook>=4.4.1->widgetsnbextension~=3.6.0->ipywidgets) (21.2.0)\n",
            "Requirement already satisfied: MarkupSafe>=2.0 in /usr/local/lib/python3.11/dist-packages (from jinja2->notebook>=4.4.1->widgetsnbextension~=3.6.0->ipywidgets) (3.0.2)\n",
            "Requirement already satisfied: jupyter-server<3,>=1.8 in /usr/local/lib/python3.11/dist-packages (from notebook-shim>=0.2.3->nbclassic>=0.4.7->notebook>=4.4.1->widgetsnbextension~=3.6.0->ipywidgets) (1.13.5)\n",
            "Requirement already satisfied: cffi>=1.0.1 in /usr/local/lib/python3.11/dist-packages (from argon2-cffi-bindings->argon2-cffi->notebook>=4.4.1->widgetsnbextension~=3.6.0->ipywidgets) (1.17.1)\n",
            "Requirement already satisfied: webencodings in /usr/local/lib/python3.11/dist-packages (from bleach->nbconvert>=5->notebook>=4.4.1->widgetsnbextension~=3.6.0->ipywidgets) (0.5.1)\n",
            "Requirement already satisfied: pycparser in /usr/local/lib/python3.11/dist-packages (from cffi>=1.0.1->argon2-cffi-bindings->argon2-cffi->notebook>=4.4.1->widgetsnbextension~=3.6.0->ipywidgets) (2.22)\n",
            "Requirement already satisfied: anyio<4,>=3.1.0 in /usr/local/lib/python3.11/dist-packages (from jupyter-server<3,>=1.8->notebook-shim>=0.2.3->nbclassic>=0.4.7->notebook>=4.4.1->widgetsnbextension~=3.6.0->ipywidgets) (3.7.1)\n",
            "Requirement already satisfied: websocket-client in /usr/local/lib/python3.11/dist-packages (from jupyter-server<3,>=1.8->notebook-shim>=0.2.3->nbclassic>=0.4.7->notebook>=4.4.1->widgetsnbextension~=3.6.0->ipywidgets) (1.8.0)\n",
            "Requirement already satisfied: idna>=2.8 in /usr/local/lib/python3.11/dist-packages (from anyio<4,>=3.1.0->jupyter-server<3,>=1.8->notebook-shim>=0.2.3->nbclassic>=0.4.7->notebook>=4.4.1->widgetsnbextension~=3.6.0->ipywidgets) (3.10)\n",
            "Requirement already satisfied: sniffio>=1.1 in /usr/local/lib/python3.11/dist-packages (from anyio<4,>=3.1.0->jupyter-server<3,>=1.8->notebook-shim>=0.2.3->nbclassic>=0.4.7->notebook>=4.4.1->widgetsnbextension~=3.6.0->ipywidgets) (1.3.1)\n",
            "\u001b[33mWARNING: Skipping serpapi as it is not installed.\u001b[0m\u001b[33m\n",
            "\u001b[0m"
          ]
        }
      ]
    },
    {
      "cell_type": "markdown",
      "source": [
        "# **Imports and Setup:**"
      ],
      "metadata": {
        "id": "rAM3Wn1YH4j0"
      }
    },
    {
      "cell_type": "code",
      "source": [
        "# === Imports ===\n",
        "# Importing necessary libraries for the project:\n",
        "import os  # Operating system interface for file operations\n",
        "import re  # Regular expression for string pattern matching and manipulation\n",
        "import wikipedia  # Wikipedia API for fetching data from Wikipedia\n",
        "import gradio as gr  # Gradio for creating a simple web interface\n",
        "from urllib.parse import urlparse  # Parsing URLs to extract domain\n",
        "from newspaper import Article  # Newspaper3k to extract articles from URLs\n",
        "from serpapi import GoogleSearch  # For performing Google search through SerpAPI\n",
        "from transformers import pipeline  # Huggingface's pipeline for NLP tasks (summarization)\n",
        "from docx import Document  # Library for creating and saving Word documents\n",
        "from reportlab.pdfgen import canvas  # Library to create PDF reports\n"
      ],
      "metadata": {
        "id": "JWyA1ROf2YuL"
      },
      "execution_count": 2,
      "outputs": []
    },
    {
      "cell_type": "markdown",
      "source": [
        "# **API Keys and Configuration:**"
      ],
      "metadata": {
        "id": "C-IKl52dInBw"
      }
    },
    {
      "cell_type": "code",
      "source": [
        "# === SerpAPI Key ===\n",
        "SERPAPI_KEY = \"445e154e5df8fa8655d9031c56e672cbdfa5d37cb74d6d021ca54d3fb400df1c\""
      ],
      "metadata": {
        "id": "_UnYNYZ52g3z"
      },
      "execution_count": 17,
      "outputs": []
    },
    {
      "cell_type": "markdown",
      "source": [
        "# **Pip Install Section (continued) - Libraries for Summarization:**"
      ],
      "metadata": {
        "id": "p88Tr_MKLxV2"
      }
    },
    {
      "cell_type": "code",
      "source": [
        "# === Install Libraries for Summarization ===\n",
        "# To use the Hugging Face summarization pipeline, make sure to have the following libraries installed:\n",
        "!pip install transformers"
      ],
      "metadata": {
        "colab": {
          "base_uri": "https://localhost:8080/"
        },
        "id": "wEqdGS0CL6z6",
        "outputId": "1b93df49-5673-42e9-d78f-406f118e97df"
      },
      "execution_count": 18,
      "outputs": [
        {
          "output_type": "stream",
          "name": "stdout",
          "text": [
            "Requirement already satisfied: transformers in /usr/local/lib/python3.11/dist-packages (4.51.3)\n",
            "Requirement already satisfied: filelock in /usr/local/lib/python3.11/dist-packages (from transformers) (3.18.0)\n",
            "Requirement already satisfied: huggingface-hub<1.0,>=0.30.0 in /usr/local/lib/python3.11/dist-packages (from transformers) (0.30.2)\n",
            "Requirement already satisfied: numpy>=1.17 in /usr/local/lib/python3.11/dist-packages (from transformers) (2.0.2)\n",
            "Requirement already satisfied: packaging>=20.0 in /usr/local/lib/python3.11/dist-packages (from transformers) (24.2)\n",
            "Requirement already satisfied: pyyaml>=5.1 in /usr/local/lib/python3.11/dist-packages (from transformers) (6.0.2)\n",
            "Requirement already satisfied: regex!=2019.12.17 in /usr/local/lib/python3.11/dist-packages (from transformers) (2024.11.6)\n",
            "Requirement already satisfied: requests in /usr/local/lib/python3.11/dist-packages (from transformers) (2.32.3)\n",
            "Requirement already satisfied: tokenizers<0.22,>=0.21 in /usr/local/lib/python3.11/dist-packages (from transformers) (0.21.1)\n",
            "Requirement already satisfied: safetensors>=0.4.3 in /usr/local/lib/python3.11/dist-packages (from transformers) (0.5.3)\n",
            "Requirement already satisfied: tqdm>=4.27 in /usr/local/lib/python3.11/dist-packages (from transformers) (4.67.1)\n",
            "Requirement already satisfied: fsspec>=2023.5.0 in /usr/local/lib/python3.11/dist-packages (from huggingface-hub<1.0,>=0.30.0->transformers) (2025.3.2)\n",
            "Requirement already satisfied: typing-extensions>=3.7.4.3 in /usr/local/lib/python3.11/dist-packages (from huggingface-hub<1.0,>=0.30.0->transformers) (4.13.2)\n",
            "Requirement already satisfied: charset-normalizer<4,>=2 in /usr/local/lib/python3.11/dist-packages (from requests->transformers) (3.4.1)\n",
            "Requirement already satisfied: idna<4,>=2.5 in /usr/local/lib/python3.11/dist-packages (from requests->transformers) (3.10)\n",
            "Requirement already satisfied: urllib3<3,>=1.21.1 in /usr/local/lib/python3.11/dist-packages (from requests->transformers) (2.4.0)\n",
            "Requirement already satisfied: certifi>=2017.4.17 in /usr/local/lib/python3.11/dist-packages (from requests->transformers) (2025.4.26)\n"
          ]
        }
      ]
    },
    {
      "cell_type": "markdown",
      "source": [
        "# **Summarizing Content Using Hugging Face**"
      ],
      "metadata": {
        "id": "jeSsmyiCMdsE"
      }
    },
    {
      "cell_type": "code",
      "source": [
        "# === Summarizing the Text ===\n",
        "# Using Hugging Face's transformers library, we utilize the pre-trained BART model to summarize the content.\n",
        "# This summarization is important to extract key insights from longer content.\n",
        "\n",
        "summarizer = pipeline(\"summarization\", model=\"facebook/bart-large-cnn\")\n"
      ],
      "metadata": {
        "colab": {
          "base_uri": "https://localhost:8080/"
        },
        "id": "ntZcwLbh2nFM",
        "outputId": "458cf665-9459-4196-80dc-059acbf14327"
      },
      "execution_count": 19,
      "outputs": [
        {
          "output_type": "stream",
          "name": "stderr",
          "text": [
            "Device set to use cpu\n"
          ]
        }
      ]
    },
    {
      "cell_type": "markdown",
      "source": [
        "# **Main Function to Run the Program:**"
      ],
      "metadata": {
        "id": "mo1UMG4mM_TZ"
      }
    },
    {
      "cell_type": "code",
      "source": [
        "# === Wikipedia Functions ===\n",
        "def get_wikipedia_summary(topic):\n",
        "    try:\n",
        "        page = wikipedia.page(topic)\n",
        "        text = re.sub(r'==.*?==+', '', page.content)\n",
        "        return text[:3000]\n",
        "    except Exception as e:\n",
        "        return f\"Wikipedia Error: {str(e)}\"\n",
        "\n",
        "def get_references(topic):\n",
        "    try:\n",
        "        page = wikipedia.page(topic)\n",
        "        refs = page.references[:5]\n",
        "        scored = []\n",
        "        for ref in refs:\n",
        "            domain = urlparse(ref).netloc\n",
        "            score = 5 if domain.endswith('.edu') or domain.endswith('.gov') else 4 if domain.endswith('.org') else 3\n",
        "            scored.append(f\"{ref} [Credibility Score: {score}/5]\")\n",
        "        return scored\n",
        "    except:\n",
        "        return [\"No references found.\"]"
      ],
      "metadata": {
        "id": "wMxKFCQbOJgq"
      },
      "execution_count": 20,
      "outputs": []
    },
    {
      "cell_type": "code",
      "source": [
        "# === Web Search & Summarize ===\n",
        "def get_web_results(topic):\n",
        "    search = GoogleSearch({\"q\": topic, \"api_key\": SERPAPI_KEY, \"num\": 3})\n",
        "    results = search.get_dict().get(\"organic_results\", [])\n",
        "    return [res.get(\"link\") for res in results if res.get(\"link\")]\n",
        "\n",
        "def summarize_article(url):\n",
        "    try:\n",
        "        article = Article(url)\n",
        "        article.download()\n",
        "        article.parse()\n",
        "        if not article.text.strip():\n",
        "            return f\"[Empty article at {url}]\"\n",
        "        text = article.text[:2000]\n",
        "        summary = summarizer(text, max_length=130, min_length=30, do_sample=False)\n",
        "        return summary[0]['summary_text']\n",
        "    except Exception as e:\n",
        "        return f\"[Error summarizing {url}: {str(e)}]\""
      ],
      "metadata": {
        "id": "cQqO_JLF3gNN"
      },
      "execution_count": 21,
      "outputs": []
    },
    {
      "cell_type": "markdown",
      "source": [
        "# **Creating and Saving the Research Report:**"
      ],
      "metadata": {
        "id": "gAp-Zf6WMye0"
      }
    },
    {
      "cell_type": "code",
      "source": [
        "# === Generating the Report ===\n",
        "# The report is generated in two formats: DOCX and PDF.\n",
        "# It includes the Wikipedia summary, references, and summaries from web articles.\n",
        "\n",
        "def generate_research_report(topic):\n",
        "    summary = get_wikipedia_summary(topic)\n",
        "    refs = get_references(topic)\n",
        "    urls = get_web_results(topic)\n",
        "    web_summaries = [(url, summarize_article(url)) for url in urls]\n",
        "\n",
        "    # Save as DOCX\n",
        "    doc = Document()\n",
        "    doc.add_heading(f\"Research Report: {topic}\", 0)\n",
        "\n",
        "    doc.add_heading(\"Wikipedia Summary\", level=1)\n",
        "    doc.add_paragraph(summary)\n",
        "\n",
        "    doc.add_heading(\"Wikipedia References\", level=1)\n",
        "    for ref in refs:\n",
        "        doc.add_paragraph(ref)\n",
        "\n",
        "    doc.add_heading(\"Web Summaries\", level=1)\n",
        "    for url, summ in web_summaries:\n",
        "        score = 5 if \".edu\" in url or \".gov\" in url else 4 if \".org\" in url else 3\n",
        "        doc.add_paragraph(f\"{url} [Credibility Score: {score}/5]\\nSummary: {summ}\")\n",
        "\n",
        "    docx_file = f\"{topic.replace(' ', '_')}_Resea_Report.docx\"\n",
        "    doc.save(docx_file)\n",
        "\n",
        "    # Save as PDF\n",
        "    pdf_file = f\"{topic.replace(' ', '_')}_Resea_Summary.pdf\"\n",
        "    pdf = canvas.Canvas(pdf_file)\n",
        "    pdf.drawString(50, 800, f\"Research Summary: {topic}\")\n",
        "    pdf.drawString(50, 780, summary[:500])\n",
        "    pdf.save()\n",
        "\n",
        "    # Return results to UI\n",
        "    formatted = f\"\"\"\n",
        "📘 Research Report: {topic}\n",
        "\n",
        "📝 Wikipedia Summary:\n",
        "{summary}\n",
        "\n",
        "🔗 References:\n",
        "{chr(10).join(refs)}\n",
        "\n",
        "🌐 Web Articles:\n",
        "\"\"\"\n",
        "    for url, summ in web_summaries:\n",
        "        score = 5 if \".edu\" in url or \".gov\" in url else 4 if \".org\" in url else 3\n",
        "        formatted += f\"\\n- {url} [Credibility Score: {score}/5]\\nSummary: {summ[:400]}\\n\"\n",
        "\n",
        "    return formatted, docx_file, pdf_file\n",
        "\n"
      ],
      "metadata": {
        "id": "nV-CZjiy3pAV"
      },
      "execution_count": 22,
      "outputs": []
    },
    {
      "cell_type": "markdown",
      "source": [
        "# **Gradio Interface (for Web Interface):**"
      ],
      "metadata": {
        "id": "vOz-Vfm8Npln"
      }
    },
    {
      "cell_type": "code",
      "source": [
        "# === Gradio Interface ===\n",
        "# Gradio is used here to create a simple web interface where users can input their research topic,\n",
        "# click a button to generate a report, and download the generated DOCX and PDF files.\n",
        "\n",
        "from google.colab import files  # Used for file upload in Colab\n",
        "files.upload()  # Upload files if needed\n",
        "\n",
        "with gr.Blocks() as demo:\n",
        "    with gr.Row():  # Add a row in the layout\n",
        "        gr.Image(\"resea_mascot.png\", width=180, show_label=False)  # Display an image\n",
        "    gr.Markdown(\"\"\"# 🤖 Resea: Virtual Research Assistant\n",
        "                  Type a research topic below and get a complete report including citations, credibility, and summaries.\n",
        "                  👉 If viewing inline, [open full app in new tab](https://gradio.live) after clicking below.\"\"\")\n",
        "    topic_input = gr.Textbox(label=\"Enter Research Topic\")  # Textbox to input topic\n",
        "    generate_btn = gr.Button(\"Generate Report\")  # Button to trigger report generation\n",
        "    output_text = gr.Textbox(lines=20, label=\"Formatted Report\")  # Textbox to display report\n",
        "    docx_file = gr.File(label=\"Download DOCX\")  # File input for DOCX download\n",
        "    pdf_file = gr.File(label=\"Download PDF\")  # File input for PDF download\n",
        "\n",
        "    # Define what happens when the button is clicked\n",
        "    generate_btn.click(fn=generate_research_report, inputs=topic_input, outputs=[output_text, docx_file, pdf_file])\n",
        "\n",
        "    # Instructions for users\n",
        "    gr.Markdown(\"After clicking Generate Report, you'll see a download link appear above. To view the full app in a new tab, [click here](https://gradio.live)\")\n",
        "\n",
        "demo.launch(share=True)  # Launch the Gradio interface, allowing sharing via a public link\n"
      ],
      "metadata": {
        "colab": {
          "base_uri": "https://localhost:8080/",
          "height": 644
        },
        "id": "nGr2Rcmu3uOI",
        "outputId": "78524d9c-64c0-49a7-c882-08370121d5dc"
      },
      "execution_count": 23,
      "outputs": [
        {
          "output_type": "display_data",
          "data": {
            "text/plain": [
              "<IPython.core.display.HTML object>"
            ],
            "text/html": [
              "\n",
              "     <input type=\"file\" id=\"files-95750288-c2b2-487c-9108-c7b76eb91c3e\" name=\"files[]\" multiple disabled\n",
              "        style=\"border:none\" />\n",
              "     <output id=\"result-95750288-c2b2-487c-9108-c7b76eb91c3e\">\n",
              "      Upload widget is only available when the cell has been executed in the\n",
              "      current browser session. Please rerun this cell to enable.\n",
              "      </output>\n",
              "      <script>// Copyright 2017 Google LLC\n",
              "//\n",
              "// Licensed under the Apache License, Version 2.0 (the \"License\");\n",
              "// you may not use this file except in compliance with the License.\n",
              "// You may obtain a copy of the License at\n",
              "//\n",
              "//      http://www.apache.org/licenses/LICENSE-2.0\n",
              "//\n",
              "// Unless required by applicable law or agreed to in writing, software\n",
              "// distributed under the License is distributed on an \"AS IS\" BASIS,\n",
              "// WITHOUT WARRANTIES OR CONDITIONS OF ANY KIND, either express or implied.\n",
              "// See the License for the specific language governing permissions and\n",
              "// limitations under the License.\n",
              "\n",
              "/**\n",
              " * @fileoverview Helpers for google.colab Python module.\n",
              " */\n",
              "(function(scope) {\n",
              "function span(text, styleAttributes = {}) {\n",
              "  const element = document.createElement('span');\n",
              "  element.textContent = text;\n",
              "  for (const key of Object.keys(styleAttributes)) {\n",
              "    element.style[key] = styleAttributes[key];\n",
              "  }\n",
              "  return element;\n",
              "}\n",
              "\n",
              "// Max number of bytes which will be uploaded at a time.\n",
              "const MAX_PAYLOAD_SIZE = 100 * 1024;\n",
              "\n",
              "function _uploadFiles(inputId, outputId) {\n",
              "  const steps = uploadFilesStep(inputId, outputId);\n",
              "  const outputElement = document.getElementById(outputId);\n",
              "  // Cache steps on the outputElement to make it available for the next call\n",
              "  // to uploadFilesContinue from Python.\n",
              "  outputElement.steps = steps;\n",
              "\n",
              "  return _uploadFilesContinue(outputId);\n",
              "}\n",
              "\n",
              "// This is roughly an async generator (not supported in the browser yet),\n",
              "// where there are multiple asynchronous steps and the Python side is going\n",
              "// to poll for completion of each step.\n",
              "// This uses a Promise to block the python side on completion of each step,\n",
              "// then passes the result of the previous step as the input to the next step.\n",
              "function _uploadFilesContinue(outputId) {\n",
              "  const outputElement = document.getElementById(outputId);\n",
              "  const steps = outputElement.steps;\n",
              "\n",
              "  const next = steps.next(outputElement.lastPromiseValue);\n",
              "  return Promise.resolve(next.value.promise).then((value) => {\n",
              "    // Cache the last promise value to make it available to the next\n",
              "    // step of the generator.\n",
              "    outputElement.lastPromiseValue = value;\n",
              "    return next.value.response;\n",
              "  });\n",
              "}\n",
              "\n",
              "/**\n",
              " * Generator function which is called between each async step of the upload\n",
              " * process.\n",
              " * @param {string} inputId Element ID of the input file picker element.\n",
              " * @param {string} outputId Element ID of the output display.\n",
              " * @return {!Iterable<!Object>} Iterable of next steps.\n",
              " */\n",
              "function* uploadFilesStep(inputId, outputId) {\n",
              "  const inputElement = document.getElementById(inputId);\n",
              "  inputElement.disabled = false;\n",
              "\n",
              "  const outputElement = document.getElementById(outputId);\n",
              "  outputElement.innerHTML = '';\n",
              "\n",
              "  const pickedPromise = new Promise((resolve) => {\n",
              "    inputElement.addEventListener('change', (e) => {\n",
              "      resolve(e.target.files);\n",
              "    });\n",
              "  });\n",
              "\n",
              "  const cancel = document.createElement('button');\n",
              "  inputElement.parentElement.appendChild(cancel);\n",
              "  cancel.textContent = 'Cancel upload';\n",
              "  const cancelPromise = new Promise((resolve) => {\n",
              "    cancel.onclick = () => {\n",
              "      resolve(null);\n",
              "    };\n",
              "  });\n",
              "\n",
              "  // Wait for the user to pick the files.\n",
              "  const files = yield {\n",
              "    promise: Promise.race([pickedPromise, cancelPromise]),\n",
              "    response: {\n",
              "      action: 'starting',\n",
              "    }\n",
              "  };\n",
              "\n",
              "  cancel.remove();\n",
              "\n",
              "  // Disable the input element since further picks are not allowed.\n",
              "  inputElement.disabled = true;\n",
              "\n",
              "  if (!files) {\n",
              "    return {\n",
              "      response: {\n",
              "        action: 'complete',\n",
              "      }\n",
              "    };\n",
              "  }\n",
              "\n",
              "  for (const file of files) {\n",
              "    const li = document.createElement('li');\n",
              "    li.append(span(file.name, {fontWeight: 'bold'}));\n",
              "    li.append(span(\n",
              "        `(${file.type || 'n/a'}) - ${file.size} bytes, ` +\n",
              "        `last modified: ${\n",
              "            file.lastModifiedDate ? file.lastModifiedDate.toLocaleDateString() :\n",
              "                                    'n/a'} - `));\n",
              "    const percent = span('0% done');\n",
              "    li.appendChild(percent);\n",
              "\n",
              "    outputElement.appendChild(li);\n",
              "\n",
              "    const fileDataPromise = new Promise((resolve) => {\n",
              "      const reader = new FileReader();\n",
              "      reader.onload = (e) => {\n",
              "        resolve(e.target.result);\n",
              "      };\n",
              "      reader.readAsArrayBuffer(file);\n",
              "    });\n",
              "    // Wait for the data to be ready.\n",
              "    let fileData = yield {\n",
              "      promise: fileDataPromise,\n",
              "      response: {\n",
              "        action: 'continue',\n",
              "      }\n",
              "    };\n",
              "\n",
              "    // Use a chunked sending to avoid message size limits. See b/62115660.\n",
              "    let position = 0;\n",
              "    do {\n",
              "      const length = Math.min(fileData.byteLength - position, MAX_PAYLOAD_SIZE);\n",
              "      const chunk = new Uint8Array(fileData, position, length);\n",
              "      position += length;\n",
              "\n",
              "      const base64 = btoa(String.fromCharCode.apply(null, chunk));\n",
              "      yield {\n",
              "        response: {\n",
              "          action: 'append',\n",
              "          file: file.name,\n",
              "          data: base64,\n",
              "        },\n",
              "      };\n",
              "\n",
              "      let percentDone = fileData.byteLength === 0 ?\n",
              "          100 :\n",
              "          Math.round((position / fileData.byteLength) * 100);\n",
              "      percent.textContent = `${percentDone}% done`;\n",
              "\n",
              "    } while (position < fileData.byteLength);\n",
              "  }\n",
              "\n",
              "  // All done.\n",
              "  yield {\n",
              "    response: {\n",
              "      action: 'complete',\n",
              "    }\n",
              "  };\n",
              "}\n",
              "\n",
              "scope.google = scope.google || {};\n",
              "scope.google.colab = scope.google.colab || {};\n",
              "scope.google.colab._files = {\n",
              "  _uploadFiles,\n",
              "  _uploadFilesContinue,\n",
              "};\n",
              "})(self);\n",
              "</script> "
            ]
          },
          "metadata": {}
        },
        {
          "output_type": "stream",
          "name": "stdout",
          "text": [
            "Saving Resea_Mascot.png to Resea_Mascot (2).png\n",
            "Colab notebook detected. To show errors in colab notebook, set debug=True in launch()\n",
            "* Running on public URL: https://2d8be2cedb94c07dd4.gradio.live\n",
            "\n",
            "This share link expires in 1 week. For free permanent hosting and GPU upgrades, run `gradio deploy` from the terminal in the working directory to deploy to Hugging Face Spaces (https://huggingface.co/spaces)\n"
          ]
        },
        {
          "output_type": "display_data",
          "data": {
            "text/plain": [
              "<IPython.core.display.HTML object>"
            ],
            "text/html": [
              "<div><iframe src=\"https://2d8be2cedb94c07dd4.gradio.live\" width=\"100%\" height=\"500\" allow=\"autoplay; camera; microphone; clipboard-read; clipboard-write;\" frameborder=\"0\" allowfullscreen></iframe></div>"
            ]
          },
          "metadata": {}
        },
        {
          "output_type": "execute_result",
          "data": {
            "text/plain": []
          },
          "metadata": {},
          "execution_count": 23
        }
      ]
    },
    {
      "cell_type": "code",
      "source": [],
      "metadata": {
        "id": "s76SiJpM3vE_"
      },
      "execution_count": 8,
      "outputs": []
    }
  ]
}