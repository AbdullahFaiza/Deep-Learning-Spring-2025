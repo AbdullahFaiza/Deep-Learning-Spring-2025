{
 "cells": [
  {
   "cell_type": "markdown",
   "metadata": {},
   "source": [
    "<center><img src=\"images/logo.png\" alt=\"drawing\" width=\"400\" style=\"background-color:white; padding:1em;\" /></center> <br/>\n",
    "\n",
    "# Application of Deep Learning to Text and Images\n",
    "## Module 2, Lab 4: Recurrent Neural Networks\n",
    "\n",
    "Recurrent Neural Networks (RNNs) are special types of networks that can capture the dynamics of sequences via repeating connections. In this exercise, you will learn how to use RNNs and apply them to a text classification problem.\n",
    "\n",
    "You will learn:\n",
    "- How to perform text transformation\n",
    "- How to use pre-trained GloVe word embeddings\n",
    "- How to set up a Recurrent Neural Network model\n",
    "- How to train and test a RNN model\n",
    "\n",
    "---\n",
    "This lab uses a dataset from a small sample of Amazon product reviews. \n",
    "\n",
    "__Review dataset schema:__\n",
    "* __reviewText:__ Text of the review\n",
    "* __summary:__ Summary of the review\n",
    "* __verified:__ Whether the purchase was verified (True or False)\n",
    "* __time:__ UNIX timestamp for the review\n",
    "* __log\\_votes:__ Logarithm-adjusted votes log(1+votes)\n",
    "* __isPositive:__ Whether the review is positive or negative (1 or 0)\n",
    "\n",
    "---\n",
    "\n",
    "You will be presented with two kinds of exercises throughout the notebook: activities and challenges. <br/>\n",
    "\n",
    "| <img style=\"float: center;\" src=\"images/activity.png\" alt=\"Activity\" width=\"125\"/>| <img style=\"float: center;\" src=\"images/challenge.png\" alt=\"Challenge\" width=\"125\"/>|\n",
    "| --- | --- |\n",
    "|<p style=\"text-align:center;\">No coding is needed for an activity. You try to understand a concept, <br/>answer questions, or run a code cell.</p> |<p style=\"text-align:center;\">Challenges are where you can practice your coding skills.</p> |\n"
   ]
  },
  {
   "cell_type": "markdown",
   "metadata": {},
   "source": [
    "---\n",
    "__Important notes:__ \n",
    "- One distinction between regular neural networks and recurrent neural networks (RNN) is that recurrent networks specialize in sequential data. With this dataset, you will use RNNs on the __reviewText__ field. You will assume that the text is made of words or tokens that are placed in a grammatically logical order. The RNN will understand the associations between the words through the recurrent connections. Eventually, it will learn to classify the text correctly (up to a certain accuracy level). \n",
    "\n",
    "- If you were interested in including the __summary__ field, you would either have to append the summary to the review text or train a separate model. In this lab you will train a RNN using only the __reviewText__ field so you can focus on learning the process and keep training time shorter."
   ]
  },
  {
   "cell_type": "markdown",
   "metadata": {},
   "source": [
    "## Index\n",
    "\n",
    "- [Text Transformation](#Text-Transformation)\n",
    "- [Using pre-trained GloVe word embeddings](#Using-pre-trained-GloVe-word-embeddings)\n",
    "- [Setting-up the Recurrent Neural Network model](#Setting-up-the-Recurrent-Neural-Network-model)\n",
    "- [Training and testing the model](#Training-and-testing-the-model)"
   ]
  },
  {
   "cell_type": "code",
   "execution_count": 1,
   "metadata": {
    "tags": []
   },
   "outputs": [],
   "source": [
    "# installing libraries\n",
    "!pip install -U -q -r requirements.txt"
   ]
  },
  {
   "cell_type": "code",
   "execution_count": 2,
   "metadata": {
    "ExecuteTime": {
     "end_time": "2021-01-09T05:02:48.342987Z",
     "start_time": "2021-01-09T05:02:47.164823Z"
    },
    "tags": []
   },
   "outputs": [
    {
     "name": "stderr",
     "output_type": "stream",
     "text": [
      "/home/ec2-user/anaconda3/envs/pytorch_p310/lib/python3.10/site-packages/torch/cuda/__init__.py:551: UserWarning: Can't initialize NVML\n",
      "  warnings.warn(\"Can't initialize NVML\")\n"
     ]
    }
   ],
   "source": [
    "import boto3, os, re, time\n",
    "import numpy as np\n",
    "import torch, torchtext\n",
    "import pandas as pd\n",
    "import matplotlib.pyplot as plt\n",
    "from d2l import torch as d2l\n",
    "from os import path\n",
    "from collections import Counter\n",
    "from torch import nn, optim\n",
    "from torch.nn import BCEWithLogitsLoss\n",
    "from torchtext.data.utils import get_tokenizer\n",
    "from torchtext.vocab import vocab\n",
    "from torch.utils.data import TensorDataset, DataLoader\n",
    "from sklearn.model_selection import train_test_split\n",
    "from sklearn.metrics import confusion_matrix, classification_report, accuracy_score\n",
    "from torchtext.vocab import GloVe\n",
    "GloVe.url['6B'] = 'https://huggingface.co/stanfordnlp/glove/resolve/main/glove.6B.zip'\n",
    "import sys\n",
    "sys.path.insert(1, '..')\n",
    "from MLUDTI_EN_M2_Lab4_quiz_questions import *\n",
    "from MLUDTI_EN_M2_Lab4_rnn import RNN"
   ]
  },
  {
   "cell_type": "markdown",
   "metadata": {},
   "source": [
    "## Text Transformation\n",
    "\n",
    "In this section, you will process the __reviewText__ field and convert it into a form that works well with recurrent networks. To do this you will:\n",
    "- Read the dataset, create train/validation split and fill-in the missing text fields.\n",
    "- Create a vocabulary using the texts from the __reviewText__ field. \n",
    "    - This vocabulary has a unique integer value for each word in the vocabulary such as \"car\"->32, \"house\"->651, ... \n",
    "- Transform the texts by replacing the words with their corresponding unique integer values. \n",
    "    - For example: \"Happy to own it\" becomes [321, 6, 237, 8, 2].\n",
    "- Use a fixed sequence length of 50 so that you can put the data into a memory efficient form and load it in batches. \n",
    "    - Longer texts are cut short (to 50 tokens) and shorter ones are padded a special value (1) to complete to 50 token length. 0 is used for unknown words (assume the real-world scenarios involving unknown words)."
   ]
  },
  {
   "cell_type": "markdown",
   "metadata": {},
   "source": [
    "Start by reading in the dataset and looking at the first five rows."
   ]
  },
  {
   "cell_type": "code",
   "execution_count": 3,
   "metadata": {
    "ExecuteTime": {
     "end_time": "2021-01-09T05:02:48.995226Z",
     "start_time": "2021-01-09T05:02:48.344888Z"
    },
    "tags": []
   },
   "outputs": [
    {
     "data": {
      "text/html": [
       "<div>\n",
       "<style scoped>\n",
       "    .dataframe tbody tr th:only-of-type {\n",
       "        vertical-align: middle;\n",
       "    }\n",
       "\n",
       "    .dataframe tbody tr th {\n",
       "        vertical-align: top;\n",
       "    }\n",
       "\n",
       "    .dataframe thead th {\n",
       "        text-align: right;\n",
       "    }\n",
       "</style>\n",
       "<table border=\"1\" class=\"dataframe\">\n",
       "  <thead>\n",
       "    <tr style=\"text-align: right;\">\n",
       "      <th></th>\n",
       "      <th>ID</th>\n",
       "      <th>reviewText</th>\n",
       "      <th>summary</th>\n",
       "      <th>verified</th>\n",
       "      <th>time</th>\n",
       "      <th>log_votes</th>\n",
       "      <th>isPositive</th>\n",
       "    </tr>\n",
       "  </thead>\n",
       "  <tbody>\n",
       "    <tr>\n",
       "      <th>0</th>\n",
       "      <td>65886</td>\n",
       "      <td>Purchased as a quick fix for a needed Server 2...</td>\n",
       "      <td>Easy install, seamless migration</td>\n",
       "      <td>True</td>\n",
       "      <td>1458864000</td>\n",
       "      <td>0.000000</td>\n",
       "      <td>1</td>\n",
       "    </tr>\n",
       "    <tr>\n",
       "      <th>1</th>\n",
       "      <td>19822</td>\n",
       "      <td>So far so good. Installation was simple. And r...</td>\n",
       "      <td>Five Stars</td>\n",
       "      <td>True</td>\n",
       "      <td>1417478400</td>\n",
       "      <td>0.000000</td>\n",
       "      <td>1</td>\n",
       "    </tr>\n",
       "    <tr>\n",
       "      <th>2</th>\n",
       "      <td>14558</td>\n",
       "      <td>Microsoft keeps making Visual Studio better. I...</td>\n",
       "      <td>This is the best development tool I've ever used.</td>\n",
       "      <td>False</td>\n",
       "      <td>1252886400</td>\n",
       "      <td>0.000000</td>\n",
       "      <td>1</td>\n",
       "    </tr>\n",
       "    <tr>\n",
       "      <th>3</th>\n",
       "      <td>39708</td>\n",
       "      <td>Very good product.</td>\n",
       "      <td>Very good product.</td>\n",
       "      <td>True</td>\n",
       "      <td>1458604800</td>\n",
       "      <td>0.000000</td>\n",
       "      <td>1</td>\n",
       "    </tr>\n",
       "    <tr>\n",
       "      <th>4</th>\n",
       "      <td>8015</td>\n",
       "      <td>So very different from my last version and I a...</td>\n",
       "      <td>... from my last version and I am having a gre...</td>\n",
       "      <td>True</td>\n",
       "      <td>1454716800</td>\n",
       "      <td>2.197225</td>\n",
       "      <td>0</td>\n",
       "    </tr>\n",
       "  </tbody>\n",
       "</table>\n",
       "</div>"
      ],
      "text/plain": [
       "      ID                                         reviewText  \\\n",
       "0  65886  Purchased as a quick fix for a needed Server 2...   \n",
       "1  19822  So far so good. Installation was simple. And r...   \n",
       "2  14558  Microsoft keeps making Visual Studio better. I...   \n",
       "3  39708                                 Very good product.   \n",
       "4   8015  So very different from my last version and I a...   \n",
       "\n",
       "                                             summary  verified        time  \\\n",
       "0                   Easy install, seamless migration      True  1458864000   \n",
       "1                                         Five Stars      True  1417478400   \n",
       "2  This is the best development tool I've ever used.     False  1252886400   \n",
       "3                                 Very good product.      True  1458604800   \n",
       "4  ... from my last version and I am having a gre...      True  1454716800   \n",
       "\n",
       "   log_votes  isPositive  \n",
       "0   0.000000           1  \n",
       "1   0.000000           1  \n",
       "2   0.000000           1  \n",
       "3   0.000000           1  \n",
       "4   2.197225           0  "
      ]
     },
     "execution_count": 3,
     "metadata": {},
     "output_type": "execute_result"
    }
   ],
   "source": [
    "df = pd.read_csv(\"data/NLP-REVIEW-DATA-CLASSIFICATION-TRAINING.csv\")\n",
    "df.head()"
   ]
  },
  {
   "cell_type": "markdown",
   "metadata": {},
   "source": [
    "Now, look at the range and distribution of the target column `isPositive`."
   ]
  },
  {
   "cell_type": "code",
   "execution_count": 4,
   "metadata": {
    "ExecuteTime": {
     "end_time": "2021-01-09T05:02:49.024615Z",
     "start_time": "2021-01-09T05:02:49.017492Z"
    },
    "tags": []
   },
   "outputs": [
    {
     "data": {
      "text/plain": [
       "isPositive\n",
       "1    34954\n",
       "0    21046\n",
       "Name: count, dtype: int64"
      ]
     },
     "execution_count": 4,
     "metadata": {},
     "output_type": "execute_result"
    }
   ],
   "source": [
    "df[\"isPositive\"].value_counts()"
   ]
  },
  {
   "cell_type": "markdown",
   "metadata": {},
   "source": [
    "It is always important that you check the number of missing values for each column."
   ]
  },
  {
   "cell_type": "code",
   "execution_count": 5,
   "metadata": {
    "ExecuteTime": {
     "end_time": "2021-01-09T05:02:49.040120Z",
     "start_time": "2021-01-09T05:02:49.026288Z"
    },
    "tags": []
   },
   "outputs": [
    {
     "name": "stdout",
     "output_type": "stream",
     "text": [
      "ID             0\n",
      "reviewText    11\n",
      "summary       13\n",
      "verified       0\n",
      "time           0\n",
      "log_votes      0\n",
      "isPositive     0\n",
      "dtype: int64\n"
     ]
    }
   ],
   "source": [
    "print(df.isna().sum())"
   ]
  },
  {
   "cell_type": "markdown",
   "metadata": {},
   "source": [
    "Since there are missing values in the text fields, specifically in the __reviewText__ field, you need to fill-in the missing values with an empty string."
   ]
  },
  {
   "cell_type": "code",
   "execution_count": 6,
   "metadata": {
    "tags": []
   },
   "outputs": [],
   "source": [
    "df[\"reviewText\"] = df[\"reviewText\"].fillna(\"missing\")"
   ]
  },
  {
   "cell_type": "markdown",
   "metadata": {},
   "source": [
    "Now, split the dataset into training and validation."
   ]
  },
  {
   "cell_type": "code",
   "execution_count": 7,
   "metadata": {
    "ExecuteTime": {
     "end_time": "2021-01-09T05:02:49.098503Z",
     "start_time": "2021-01-09T05:02:49.041948Z"
    },
    "tags": []
   },
   "outputs": [],
   "source": [
    "# This separates 10% of the entire dataset into validation dataset.\n",
    "train_text, val_text, train_label, val_label = train_test_split(\n",
    "    df[\"reviewText\"].tolist(),\n",
    "    df[\"isPositive\"].tolist(),\n",
    "    test_size=0.10,\n",
    "    shuffle=True,\n",
    "    random_state=324,\n",
    ")"
   ]
  },
  {
   "cell_type": "markdown",
   "metadata": {},
   "source": [
    "### Creating a vocabulary:\n",
    "\n",
    "Once your dataset is ready, you need to create a vocabulary with the tokens from the text data. To do this, use a basic English tokenizer and then use these tokens to create the vocabulary. In this vocabulary, tokens will map to unique ids, such as \"car\"->32, \"house\"->651, ... "
   ]
  },
  {
   "cell_type": "code",
   "execution_count": 8,
   "metadata": {
    "tags": []
   },
   "outputs": [],
   "source": [
    "tokenizer = get_tokenizer(\"basic_english\")\n",
    "counter = Counter()\n",
    "for line in train_text:\n",
    "    counter.update(tokenizer(line))\n",
    "vocab = vocab(counter, min_freq=2, specials=[\"<unk>\"]) #min_freq>1 for skipping misspelled words\n",
    "vocab.set_default_index(vocab['<unk>'])"
   ]
  },
  {
   "cell_type": "markdown",
   "metadata": {},
   "source": [
    "To see what the data now looks like, print some examples."
   ]
  },
  {
   "cell_type": "code",
   "execution_count": 9,
   "metadata": {
    "tags": []
   },
   "outputs": [
    {
     "name": "stdout",
     "output_type": "stream",
     "text": [
      "'home' -> 665\n",
      "'wash' -> 17661\n",
      "'fhshbasdhb' -> 0\n"
     ]
    }
   ],
   "source": [
    "print(f\"'home' -> {vocab['home']}\")\n",
    "print(f\"'wash' -> {vocab['wash']}\")\n",
    "# unknown word (assume from test set)\n",
    "print(f\"'fhshbasdhb' -> {vocab['fhshbasdhb']}\")"
   ]
  },
  {
   "cell_type": "markdown",
   "metadata": {},
   "source": [
    "Now, print the words for the first 25 indexes in the vocabulary. \n",
    "\n",
    "- `< unk >` is reserved for unknown words \n",
    "- `< pad >` is used for the padded tokens (more about this in the next section)"
   ]
  },
  {
   "cell_type": "code",
   "execution_count": 10,
   "metadata": {
    "tags": []
   },
   "outputs": [
    {
     "name": "stdout",
     "output_type": "stream",
     "text": [
      "['<unk>', 'worked', 'great', '!', 'i', \"'\", 've', 'been', 'using', 'turbo', 'tax', 'for', 'at', 'least', 'ten', 'years', 'and', 'have', 'loved', 'it', 'from', 'the', 'start', '.', 'this']\n"
     ]
    }
   ],
   "source": [
    "print(vocab.get_itos()[0:25])"
   ]
  },
  {
   "cell_type": "code",
   "execution_count": 11,
   "metadata": {
    "tags": []
   },
   "outputs": [
    {
     "data": {
      "text/html": [
       "\n",
       "        <script>var Quiz=function(){\"use strict\";var M=document.createElement(\"style\");M.textContent=`.quiz-wrapper.svelte-fk6ar3{padding:1rem}.footer.svelte-fk6ar3{display:flex;align-items:center}h2.svelte-fk6ar3{font-size:1.5rem;margin-bottom:2rem;color:#232f3e}p.svelte-fk6ar3{font-size:16px}.options.svelte-fk6ar3{display:grid;grid-template-columns:repeat(2,50%);grid-template-rows:repeat(2,1fr);width:100%;margin:auto;justify-content:center}.mlu-quizquestion-option-button.svelte-fk6ar3{padding:1rem;margin:.5rem}.submit-button.svelte-fk6ar3{padding:1rem;margin:.5rem;width:90px;color:#fff;background-color:coral}.active.svelte-fk6ar3{background-color:#232f3e;color:#fff}.correct-answer.svelte-fk6ar3{background-color:green}.incorrect-answer.svelte-fk6ar3{background-color:red;text-decoration:line-through}.available.svelte-fk6ar3{pointer-events:none;opacity:.6}\n",
       "`,document.head.appendChild(M);function I(){}function P(e){return e()}function W(){return Object.create(null)}function O(e){e.forEach(P)}function X(e){return typeof e==\"function\"}function Z(e,t){return e!=e?t==t:e!==t||e&&typeof e==\"object\"||typeof e==\"function\"}function x(e){return Object.keys(e).length===0}function m(e,t){e.appendChild(t)}function j(e,t,n){e.insertBefore(t,n||null)}function z(e){e.parentNode&&e.parentNode.removeChild(e)}function ee(e,t){for(let n=0;n<e.length;n+=1)e[n]&&e[n].d(t)}function k(e){return document.createElement(e)}function A(e){return document.createTextNode(e)}function S(){return A(\" \")}function te(){return A(\"\")}function Y(e,t,n,r){return e.addEventListener(t,n,r),()=>e.removeEventListener(t,n,r)}function v(e,t,n){n==null?e.removeAttribute(t):e.getAttribute(t)!==n&&e.setAttribute(t,n)}function ne(e){return Array.from(e.childNodes)}function T(e,t){t=\"\"+t,e.wholeText!==t&&(e.data=t)}function p(e,t,n){e.classList[n?\"add\":\"remove\"](t)}let L;function N(e){L=e}const $=[],D=[],Q=[],F=[],re=Promise.resolve();let B=!1;function oe(){B||(B=!0,re.then(H))}function R(e){Q.push(e)}const G=new Set;let E=0;function H(){if(E!==0)return;const e=L;do{try{for(;E<$.length;){const t=$[E];E++,N(t),le(t.$$)}}catch(t){throw $.length=0,E=0,t}for(N(null),$.length=0,E=0;D.length;)D.pop()();for(let t=0;t<Q.length;t+=1){const n=Q[t];G.has(n)||(G.add(n),n())}Q.length=0}while($.length);for(;F.length;)F.pop()();B=!1,G.clear(),N(e)}function le(e){if(e.fragment!==null){e.update(),O(e.before_update);const t=e.dirty;e.dirty=[-1],e.fragment&&e.fragment.p(e.ctx,t),e.after_update.forEach(R)}}const ie=new Set;function se(e,t){e&&e.i&&(ie.delete(e),e.i(t))}function ce(e,t,n,r){const{fragment:l,after_update:i}=e.$$;l&&l.m(t,n),r||R(()=>{const s=e.$$.on_mount.map(P).filter(X);e.$$.on_destroy?e.$$.on_destroy.push(...s):O(s),e.$$.on_mount=[]}),i.forEach(R)}function fe(e,t){const n=e.$$;n.fragment!==null&&(O(n.on_destroy),n.fragment&&n.fragment.d(t),n.on_destroy=n.fragment=null,n.ctx=[])}function ue(e,t){e.$$.dirty[0]===-1&&($.push(e),oe(),e.$$.dirty.fill(0)),e.$$.dirty[t/31|0]|=1<<t%31}function ae(e,t,n,r,l,i,s,g=[-1]){const c=L;N(e);const o=e.$$={fragment:null,ctx:[],props:i,update:I,not_equal:l,bound:W(),on_mount:[],on_destroy:[],on_disconnect:[],before_update:[],after_update:[],context:new Map(t.context||(c?c.$$.context:[])),callbacks:W(),dirty:g,skip_bound:!1,root:t.target||c.$$.root};s&&s(o.root);let b=!1;if(o.ctx=n?n(e,t.props||{},(a,q,...y)=>{const h=y.length?y[0]:q;return o.ctx&&l(o.ctx[a],o.ctx[a]=h)&&(!o.skip_bound&&o.bound[a]&&o.bound[a](h),b&&ue(e,a)),q}):[],o.update(),b=!0,O(o.before_update),o.fragment=r?r(o.ctx):!1,t.target){if(t.hydrate){const a=ne(t.target);o.fragment&&o.fragment.l(a),a.forEach(z)}else o.fragment&&o.fragment.c();t.intro&&se(e.$$.fragment),ce(e,t.target,t.anchor,t.customElement),H()}N(c)}class de{$destroy(){fe(this,1),this.$destroy=I}$on(t,n){if(!X(n))return I;const r=this.$$.callbacks[t]||(this.$$.callbacks[t]=[]);return r.push(n),()=>{const l=r.indexOf(n);l!==-1&&r.splice(l,1)}}$set(t){this.$$set&&!x(t)&&(this.$$.skip_bound=!0,this.$$set(t),this.$$.skip_bound=!1)}}const be=\"\";function J(e,t,n){const r=e.slice();return r[11]=t[n],r[13]=n,r}function K(e){let t,n=e[11]+\"\",r,l,i,s;function g(){return e[9](e[13])}return{c(){t=k(\"button\"),r=A(n),l=S(),v(t,\"class\",\"mlu-quizquestion-option-button button svelte-fk6ar3\"),p(t,\"active\",e[5]===e[13]),p(t,\"correct-answer\",e[1]&&e[5]===e[13]&&e[2]==e[0].correctIndex),p(t,\"incorrect-answer\",e[1]&&e[5]===e[13]&&e[2]!=e[0].correctIndex),p(t,\"available\",e[4]&&e[1])},m(c,o){j(c,t,o),m(t,r),m(t,l),i||(s=Y(t,\"click\",g),i=!0)},p(c,o){e=c,o&1&&n!==(n=e[11]+\"\")&&T(r,n),o&32&&p(t,\"active\",e[5]===e[13]),o&39&&p(t,\"correct-answer\",e[1]&&e[5]===e[13]&&e[2]==e[0].correctIndex),o&39&&p(t,\"incorrect-answer\",e[1]&&e[5]===e[13]&&e[2]!=e[0].correctIndex),o&18&&p(t,\"available\",e[4]&&e[1])},d(c){c&&z(t),i=!1,s()}}}function U(e){let t;function n(i,s){return i[3]==!0?he:_e}let r=n(e),l=r(e);return{c(){l.c(),t=te()},m(i,s){l.m(i,s),j(i,t,s)},p(i,s){r!==(r=n(i))&&(l.d(1),l=r(i),l&&(l.c(),l.m(t.parentNode,t)))},d(i){l.d(i),i&&z(t)}}}function _e(e){let t;return{c(){t=k(\"p\"),t.textContent=\"This is not the correct answer. Try again!\",v(t,\"class\",\"svelte-fk6ar3\")},m(n,r){j(n,t,r)},d(n){n&&z(t)}}}function he(e){let t;return{c(){t=k(\"p\"),t.textContent=\"Good! You got the correct answer.\",v(t,\"class\",\"svelte-fk6ar3\")},m(n,r){j(n,t,r)},d(n){n&&z(t)}}}function me(e){let t,n,r=e[0].question+\"\",l,i,s,g,c,o,b=e[1]?\"Retry\":\"Submit\",a,q,y,h,C=e[0].options,d=[];for(let f=0;f<C.length;f+=1)d[f]=K(J(e,C,f));let _=e[1]&&U(e);return{c(){t=k(\"div\"),n=k(\"h2\"),l=A(r),i=S(),s=k(\"div\");for(let f=0;f<d.length;f+=1)d[f].c();g=S(),c=k(\"div\"),o=k(\"button\"),a=A(b),q=S(),_&&_.c(),v(n,\"class\",\"svelte-fk6ar3\"),v(s,\"class\",\"options svelte-fk6ar3\"),v(o,\"class\",\"submit-button svelte-fk6ar3\"),p(o,\"available\",!e[4]),v(c,\"class\",\"footer svelte-fk6ar3\"),v(t,\"class\",\"quiz-wrapper svelte-fk6ar3\")},m(f,w){j(f,t,w),m(t,n),m(n,l),m(t,i),m(t,s);for(let u=0;u<d.length;u+=1)d[u].m(s,null);m(t,g),m(t,c),m(c,o),m(o,a),m(c,q),_&&_.m(c,null),y||(h=Y(o,\"click\",e[10]),y=!0)},p(f,[w]){if(w&1&&r!==(r=f[0].question+\"\")&&T(l,r),w&311){C=f[0].options;let u;for(u=0;u<C.length;u+=1){const V=J(f,C,u);d[u]?d[u].p(V,w):(d[u]=K(V),d[u].c(),d[u].m(s,null))}for(;u<d.length;u+=1)d[u].d(1);d.length=C.length}w&2&&b!==(b=f[1]?\"Retry\":\"Submit\")&&T(a,b),w&16&&p(o,\"available\",!f[4]),f[1]?_?_.p(f,w):(_=U(f),_.c(),_.m(c,null)):_&&(_.d(1),_=null)},i:I,o:I,d(f){f&&z(t),ee(d,f),_&&_.d(),y=!1,h()}}}function pe(e,t,n){let{question:r={question:\"Who didn't attend this meeting?\",options:[\"Xin\",\"Anand\",\"Brent\"],correctIndex:2}}=t,l=!1,i=-1,s=\"no\",g=!1,c;function o(){n(4,g=!1),n(1,l=!1),n(2,i=-1),n(5,c=-1),n(3,s=\"no\")}function b(){n(1,l=!0),n(3,s=i==r.correctIndex)}function a(h){n(4,g=!0),n(2,i=h),n(5,c=h)}const q=h=>a(h),y=()=>l?o():b();return e.$$set=h=>{\"question\"in h&&n(0,r=h.question)},[r,l,i,s,g,c,o,b,a,q,y]}class ge extends de{constructor(t){super(),ae(this,t,pe,me,Z,{question:0})}}return ge}();\n",
       "</script>\n",
       "        \n",
       "        <div id=\"Quiz-187fd660\"></div>\n",
       "        <script>\n",
       "        (() => {\n",
       "            var data = {\n",
       "\"question\": {\n",
       "\"question\": \"Why do you need to convert words to tokens?\",\n",
       "\"options\": [\n",
       "\"Tokens are numbers that can be manipulated mathematically. Computers are better at processing numbers than words.\",\n",
       "\"Tokens take up less storage space than words do.\",\n",
       "\"Tokens represent words as well as their semantic context, so tokens communicate more information per value.\"\n",
       "],\n",
       "\"correctIndex\": 0\n",
       "}\n",
       "};\n",
       "            window.Quiz_data = data;\n",
       "            var Quiz_inst = new Quiz({\n",
       "                \"target\": document.getElementById(\"Quiz-187fd660\"),\n",
       "                \"props\": data\n",
       "            });\n",
       "        })();\n",
       "        </script>\n",
       "        \n",
       "        "
      ],
      "text/plain": [
       "<MLUDTI_EN_M2_Lab4_quiz_questions.Quiz at 0x7f0448d7bdc0>"
      ]
     },
     "execution_count": 11,
     "metadata": {},
     "output_type": "execute_result"
    }
   ],
   "source": [
    "question_1"
   ]
  },
  {
   "cell_type": "markdown",
   "metadata": {},
   "source": [
    "### Text transformation with defined vocabulary\n",
    "\n",
    "Now, you can use the vocabulary and map tokens in the text to unique ids of the tokens. \n",
    "\n",
    "For example: `[\"this\", \"is\", \"a\", \"sentence\"] -> [14, 12, 9, 2066]`"
   ]
  },
  {
   "cell_type": "code",
   "execution_count": 12,
   "metadata": {
    "tags": []
   },
   "outputs": [],
   "source": [
    "# Let's create a mapper to transform our text data\n",
    "text_transform_pipeline = lambda x: [vocab[token] for token in tokenizer(x)]"
   ]
  },
  {
   "cell_type": "markdown",
   "metadata": {},
   "source": [
    "Once the mapping is complete, you can print some before and after examples."
   ]
  },
  {
   "cell_type": "code",
   "execution_count": 13,
   "metadata": {
    "tags": []
   },
   "outputs": [
    {
     "name": "stdout",
     "output_type": "stream",
     "text": [
      "Before transform:\tHappy to own it.\n",
      "After transform:\t[817, 74, 47, 19, 23]\n"
     ]
    }
   ],
   "source": [
    "print(f\"Before transform:\\t{train_text[37]}\")\n",
    "print(f\"After transform:\\t{text_transform_pipeline(train_text[37])}\")"
   ]
  },
  {
   "cell_type": "markdown",
   "metadata": {},
   "source": [
    "To make this process easier to use, create a function to do all the steps automatically. \n",
    "\n",
    "Create the function to: \n",
    "\n",
    "- Transform and pad (if necessary) the text data\n",
    "- Cut the series of words at the point where it reaches a certain length\n",
    "    - For this example, use `max_len=50`\n",
    "    - If the text is shorter than max_len, pad `ones` to the start of the sequence"
   ]
  },
  {
   "cell_type": "code",
   "execution_count": 14,
   "metadata": {
    "tags": []
   },
   "outputs": [],
   "source": [
    "def pad_features(reviews_split, seq_length):\n",
    "    # Transform the text\n",
    "    # use the dict to tokenize each review in reviews_split\n",
    "    # store the tokenized reviews in reviews_ints\n",
    "    reviews_ints = []\n",
    "    for review in reviews_split:\n",
    "        reviews_ints.append(text_transform_pipeline(review))\n",
    "    \n",
    "    # getting the correct rows x cols shape\n",
    "    features = np.ones((len(reviews_ints), seq_length), dtype=int)\n",
    "    \n",
    "    # for each review, I grab that review\n",
    "    for i, row in enumerate(reviews_ints):\n",
    "        features[i, -len(row):] = np.array(row)[:seq_length]\n",
    "    \n",
    "    return torch.tensor(features, dtype=torch.int64)"
   ]
  },
  {
   "cell_type": "markdown",
   "metadata": {},
   "source": [
    "Let's look at two example sentences. Remember that $1$ is used for each padded item and $0$ is used for each unknown word in the text."
   ]
  },
  {
   "cell_type": "code",
   "execution_count": 15,
   "metadata": {
    "tags": []
   },
   "outputs": [
    {
     "name": "stdout",
     "output_type": "stream",
     "text": [
      "Text: Its just great as alwayes\n",
      "Been using for years and its getting better\n",
      "\n",
      "Original length of the text: 69\n",
      "\n",
      "Transformed text: \n",
      "tensor([[  1,   1,   1,   1,   1,   1,   1,   1,   1,   1,   1,   1,   1,   1,\n",
      "           1,   1,   1,   1,   1,   1,   1,   1,   1,   1,   1,   1,   1,   1,\n",
      "           1,   1,   1,   1,   1,   1,   1,   1,   1, 212, 261,   2,  30,   0,\n",
      "           7,   8,  11,  15,  16, 212, 297, 332]])\n",
      "\n",
      "Shape of transformed text: torch.Size([1, 50])\n",
      "\n",
      "Text: By carefully selecting the options available, the latest Kindle for Windows on even a small laptop produces a very pleasant reading experience, even if your vision is not the best at your comfortable hands to eyes reading distance. It sure beats reading from a book whose font size is too small for comfort.\n",
      "\n",
      "Original length of the text: 307\n",
      "\n",
      "Transformed text: \n",
      "tensor([[333, 334, 335,  21, 336, 337,  49,  21,  76, 338,  11, 103, 154, 134,\n",
      "          66, 339, 340, 341,  66, 247, 342, 343, 344,  49, 134, 293,  28, 345,\n",
      "          60,  63,  21, 346,  12,  28, 347, 348,  74, 349, 343, 350,  23,  19,\n",
      "         351, 352, 343,  20,  66, 353, 354, 355]])\n",
      "\n",
      "Shape of transformed text: torch.Size([1, 50])\n",
      "\n"
     ]
    }
   ],
   "source": [
    "for text in train_text[15:17]:\n",
    "    print(f\"Text: {text}\\n\")\n",
    "    print(f\"Original length of the text: {len(text)}\\n\")\n",
    "    tt = pad_features([text], seq_length=50)\n",
    "    print(f\"Transformed text: \\n{tt}\\n\")\n",
    "    print(f\"Shape of transformed text: {tt.shape}\\n\")"
   ]
  },
  {
   "cell_type": "markdown",
   "metadata": {},
   "source": [
    "Use the `pad_features()` function and create the data loaders and use `max_len=50` to consider only the first 50 words in the text."
   ]
  },
  {
   "cell_type": "code",
   "execution_count": 16,
   "metadata": {
    "tags": []
   },
   "outputs": [],
   "source": [
    "max_len = 50\n",
    "batch_size = 64\n",
    "\n",
    "# Pass transformed and padded data to dataset\n",
    "# Create data loaders\n",
    "train_dataset = TensorDataset(\n",
    "    pad_features(train_text, max_len),\n",
    "    torch.tensor(train_label)\n",
    ")\n",
    "train_loader = DataLoader(train_dataset,\n",
    "                          batch_size=batch_size,\n",
    "                          drop_last=True)\n",
    "\n",
    "val_dataset = TensorDataset(pad_features(val_text, max_len),\n",
    "                            torch.tensor(val_label))\n",
    "val_loader = DataLoader(val_dataset,\n",
    "                        batch_size=batch_size,\n",
    "                        drop_last=True)"
   ]
  },
  {
   "cell_type": "markdown",
   "metadata": {},
   "source": [
    "## Using pre-trained GloVe word embeddings\n",
    "\n",
    "In this example, you will use GloVe word vectors `name=\"6B\"` with `dim=300`. This gives 6 billion words/phrases vectors. Each word vector has $300$ numbers. \n",
    "\n",
    "The following code shows how to get the word vectors and create an embedding matrix from them. You will connect your vocabulary indexes to the GloVe embedding with the `get_vecs_by_tokens()` function."
   ]
  },
  {
   "cell_type": "code",
   "execution_count": 17,
   "metadata": {
    "ExecuteTime": {
     "end_time": "2021-01-09T05:04:29.864398Z",
     "start_time": "2021-01-09T05:04:29.376025Z"
    },
    "tags": []
   },
   "outputs": [],
   "source": [
    "glove = GloVe(name=\"6B\", dim=300)\n",
    "embedding_matrix = glove.get_vecs_by_tokens(vocab.get_itos())"
   ]
  },
  {
   "cell_type": "markdown",
   "metadata": {},
   "source": [
    "Now you need to set your parameters such as number of epochs and the vocabulary size."
   ]
  },
  {
   "cell_type": "code",
   "execution_count": 18,
   "metadata": {
    "ExecuteTime": {
     "end_time": "2021-01-09T05:04:29.868989Z",
     "start_time": "2021-01-09T05:04:29.866241Z"
    },
    "tags": []
   },
   "outputs": [],
   "source": [
    "# Size of the state vectors\n",
    "hidden_size = 128\n",
    "\n",
    "# General NN training parameters\n",
    "learning_rate = 0.001\n",
    "num_epochs = 45\n",
    "\n",
    "# Embedding vector and vocabulary sizes\n",
    "embed_size = 300  # glove.6B.300d.txt\n",
    "vocab_size = len(vocab.get_itos())"
   ]
  },
  {
   "cell_type": "markdown",
   "metadata": {},
   "source": [
    "We need to put our data into correct format before the process."
   ]
  },
  {
   "cell_type": "markdown",
   "metadata": {},
   "source": [
    "# Recurrent Neural Networks\n",
    "\n",
    "Interact with the basic word-level RNN below. Each sequence in the RNN is predicted from information in the previous hidden layer, as well as the previous word in the sequence:"
   ]
  },
  {
   "cell_type": "code",
   "execution_count": 19,
   "metadata": {},
   "outputs": [
    {
     "data": {
      "text/html": [
       "\n",
       "        <script>var RNN=function(){\"use strict\";var Ee=document.createElement(\"style\");Ee.textContent=`@import\"https://fonts.googleapis.com/css2?family=Inconsolata&display=swap\";.svelte-1qqr5fm{font-family:Inconsolata}input.svelte-1qqr5fm{width:300px;overflow:scroll;height:38px}section.svelte-1qqr5fm{margin:auto;padding-bottom:15px}text.svelte-1qqr5fm{font-size:14px}\n",
       "`,document.head.appendChild(Ee);function U(){}function Se(e){return e()}function je(){return Object.create(null)}function Q(e){e.forEach(Se)}function Ie(e){return typeof e==\"function\"}function Nn(e,n){return e!=e?n==n:e!==n||e&&typeof e==\"object\"||typeof e==\"function\"}function qn(e){return Object.keys(e).length===0}function M(e,n){e.appendChild(n)}function I(e,n,t){e.insertBefore(n,t||null)}function S(e){e.parentNode&&e.parentNode.removeChild(e)}function He(e,n){for(let t=0;t<e.length;t+=1)e[t]&&e[t].d(n)}function ge(e){return document.createElement(e)}function N(e){return document.createElementNS(\"http://www.w3.org/2000/svg\",e)}function P(e){return document.createTextNode(e)}function An(){return P(\" \")}function Pe(){return P(\"\")}function Rn(e,n,t,r){return e.addEventListener(n,t,r),()=>e.removeEventListener(n,t,r)}function h(e,n,t){t==null?e.removeAttribute(n):e.getAttribute(n)!==t&&e.setAttribute(n,t)}function En(e){return Array.from(e.childNodes)}function Le(e,n){n=\"\"+n,e.data!==n&&(e.data=n)}function Oe(e,n){e.value=n==null?\"\":n}let me;function V(e){me=e}const C=[],ze=[];let F=[];const Ce=[],Sn=Promise.resolve();let pe=!1;function jn(){pe||(pe=!0,Sn.then(Fe))}function xe(e){F.push(e)}const be=new Set;let B=0;function Fe(){if(B!==0)return;const e=me;do{try{for(;B<C.length;){const n=C[B];B++,V(n),In(n.$$)}}catch(n){throw C.length=0,B=0,n}for(V(null),C.length=0,B=0;ze.length;)ze.pop()();for(let n=0;n<F.length;n+=1){const t=F[n];be.has(t)||(be.add(t),t())}F.length=0}while(C.length);for(;Ce.length;)Ce.pop()();pe=!1,be.clear(),V(e)}function In(e){if(e.fragment!==null){e.update(),Q(e.before_update);const n=e.dirty;e.dirty=[-1],e.fragment&&e.fragment.p(e.ctx,n),e.after_update.forEach(xe)}}function Hn(e){const n=[],t=[];F.forEach(r=>e.indexOf(r)===-1?n.push(r):t.push(r)),t.forEach(r=>r()),F=n}const Pn=new Set;function Ln(e,n){e&&e.i&&(Pn.delete(e),e.i(n))}function On(e,n,t,r){const{fragment:i,after_update:a}=e.$$;i&&i.m(n,t),r||xe(()=>{const f=e.$$.on_mount.map(Se).filter(Ie);e.$$.on_destroy?e.$$.on_destroy.push(...f):Q(f),e.$$.on_mount=[]}),a.forEach(xe)}function zn(e,n){const t=e.$$;t.fragment!==null&&(Hn(t.after_update),Q(t.on_destroy),t.fragment&&t.fragment.d(n),t.on_destroy=t.fragment=null,t.ctx=[])}function Cn(e,n){e.$$.dirty[0]===-1&&(C.push(e),jn(),e.$$.dirty.fill(0)),e.$$.dirty[n/31|0]|=1<<n%31}function Fn(e,n,t,r,i,a,f,o=[-1]){const s=me;V(e);const u=e.$$={fragment:null,ctx:[],props:a,update:U,not_equal:i,bound:je(),on_mount:[],on_destroy:[],on_disconnect:[],before_update:[],after_update:[],context:new Map(n.context||(s?s.$$.context:[])),callbacks:je(),dirty:o,skip_bound:!1,root:n.target||s.$$.root};f&&f(u.root);let g=!1;if(u.ctx=t?t(e,n.props||{},(c,d,...v)=>{const x=v.length?v[0]:d;return u.ctx&&i(u.ctx[c],u.ctx[c]=x)&&(!u.skip_bound&&u.bound[c]&&u.bound[c](x),g&&Cn(e,c)),d}):[],u.update(),g=!0,Q(u.before_update),u.fragment=r?r(u.ctx):!1,n.target){if(n.hydrate){const c=En(n.target);u.fragment&&u.fragment.l(c),c.forEach(S)}else u.fragment&&u.fragment.c();n.intro&&Ln(e.$$.fragment),On(e,n.target,n.anchor,n.customElement),Fe()}V(s)}class Bn{$destroy(){zn(this,1),this.$destroy=U}$on(n,t){if(!Ie(t))return U;const r=this.$$.callbacks[n]||(this.$$.callbacks[n]=[]);return r.push(t),()=>{const i=r.indexOf(t);i!==-1&&r.splice(i,1)}}$set(n){this.$$set&&!qn(n)&&(this.$$.skip_bound=!0,this.$$set(n),this.$$.skip_bound=!1)}}function ee(e,n){return e==null||n==null?NaN:e<n?-1:e>n?1:e>=n?0:NaN}function Tn(e,n){return e==null||n==null?NaN:n<e?-1:n>e?1:n>=e?0:NaN}function Be(e){let n,t,r;e.length!==2?(n=ee,t=(o,s)=>ee(e(o),s),r=(o,s)=>e(o)-s):(n=e===ee||e===Tn?e:Dn,t=e,r=e);function i(o,s,u=0,g=o.length){if(u<g){if(n(s,s)!==0)return g;do{const c=u+g>>>1;t(o[c],s)<0?u=c+1:g=c}while(u<g)}return u}function a(o,s,u=0,g=o.length){if(u<g){if(n(s,s)!==0)return g;do{const c=u+g>>>1;t(o[c],s)<=0?u=c+1:g=c}while(u<g)}return u}function f(o,s,u=0,g=o.length){const c=i(o,s,u,g-1);return c>u&&r(o[c-1],s)>-r(o[c],s)?c-1:c}return{left:i,center:f,right:a}}function Dn(){return 0}function Gn(e){return e===null?NaN:+e}const Wn=Be(ee).right;Be(Gn).center;const Xn=Wn;class Te extends Map{constructor(n,t=Yn){if(super(),Object.defineProperties(this,{_intern:{value:new Map},_key:{value:t}}),n!=null)for(const[r,i]of n)this.set(r,i)}get(n){return super.get(De(this,n))}has(n){return super.has(De(this,n))}set(n,t){return super.set(Un(this,n),t)}delete(n){return super.delete(Vn(this,n))}}function De({_intern:e,_key:n},t){const r=n(t);return e.has(r)?e.get(r):t}function Un({_intern:e,_key:n},t){const r=n(t);return e.has(r)?e.get(r):(e.set(r,t),t)}function Vn({_intern:e,_key:n},t){const r=n(t);return e.has(r)&&(t=e.get(r),e.delete(r)),t}function Yn(e){return e!==null&&typeof e==\"object\"?e.valueOf():e}const Zn=Math.sqrt(50),Jn=Math.sqrt(10),Kn=Math.sqrt(2);function ne(e,n,t){const r=(n-e)/Math.max(0,t),i=Math.floor(Math.log10(r)),a=r/Math.pow(10,i),f=a>=Zn?10:a>=Jn?5:a>=Kn?2:1;let o,s,u;return i<0?(u=Math.pow(10,-i)/f,o=Math.round(e*u),s=Math.round(n*u),o/u<e&&++o,s/u>n&&--s,u=-u):(u=Math.pow(10,i)*f,o=Math.round(e/u),s=Math.round(n/u),o*u<e&&++o,s*u>n&&--s),s<o&&.5<=t&&t<2?ne(e,n,t*2):[o,s,u]}function Qn(e,n,t){if(n=+n,e=+e,t=+t,!(t>0))return[];if(e===n)return[e];const r=n<e,[i,a,f]=r?ne(n,e,t):ne(e,n,t);if(!(a>=i))return[];const o=a-i+1,s=new Array(o);if(r)if(f<0)for(let u=0;u<o;++u)s[u]=(a-u)/-f;else for(let u=0;u<o;++u)s[u]=(a-u)*f;else if(f<0)for(let u=0;u<o;++u)s[u]=(i+u)/-f;else for(let u=0;u<o;++u)s[u]=(i+u)*f;return s}function ye(e,n,t){return n=+n,e=+e,t=+t,ne(e,n,t)[2]}function et(e,n,t){n=+n,e=+e,t=+t;const r=n<e,i=r?ye(n,e,t):ye(e,n,t);return(r?-1:1)*(i<0?1/-i:i)}function nt(e,n,t){e=+e,n=+n,t=(i=arguments.length)<2?(n=e,e=0,1):i<3?1:+t;for(var r=-1,i=Math.max(0,Math.ceil((n-e)/t))|0,a=new Array(i);++r<i;)a[r]=e+r*t;return a}function we(e,n){switch(arguments.length){case 0:break;case 1:this.range(e);break;default:this.range(n).domain(e);break}return this}const Ge=Symbol(\"implicit\");function We(){var e=new Te,n=[],t=[],r=Ge;function i(a){let f=e.get(a);if(f===void 0){if(r!==Ge)return r;e.set(a,f=n.push(a)-1)}return t[f%t.length]}return i.domain=function(a){if(!arguments.length)return n.slice();n=[],e=new Te;for(const f of a)e.has(f)||e.set(f,n.push(f)-1);return i},i.range=function(a){return arguments.length?(t=Array.from(a),i):t.slice()},i.unknown=function(a){return arguments.length?(r=a,i):r},i.copy=function(){return We(n,t).unknown(r)},we.apply(i,arguments),i}function Xe(){var e=We().unknown(void 0),n=e.domain,t=e.range,r=0,i=1,a,f,o=!1,s=0,u=0,g=.5;delete e.unknown;function c(){var d=n().length,v=i<r,x=v?i:r,k=v?r:i;a=(k-x)/Math.max(1,d-s+u*2),o&&(a=Math.floor(a)),x+=(k-x-a*(d-s))*g,f=a*(1-s),o&&(x=Math.round(x),f=Math.round(f));var b=nt(d).map(function(_){return x+a*_});return t(v?b.reverse():b)}return e.domain=function(d){return arguments.length?(n(d),c()):n()},e.range=function(d){return arguments.length?([r,i]=d,r=+r,i=+i,c()):[r,i]},e.rangeRound=function(d){return[r,i]=d,r=+r,i=+i,o=!0,c()},e.bandwidth=function(){return f},e.step=function(){return a},e.round=function(d){return arguments.length?(o=!!d,c()):o},e.padding=function(d){return arguments.length?(s=Math.min(1,u=+d),c()):s},e.paddingInner=function(d){return arguments.length?(s=Math.min(1,d),c()):s},e.paddingOuter=function(d){return arguments.length?(u=+d,c()):u},e.align=function(d){return arguments.length?(g=Math.max(0,Math.min(1,d)),c()):g},e.copy=function(){return Xe(n(),[r,i]).round(o).paddingInner(s).paddingOuter(u).align(g)},we.apply(c(),arguments)}function Ue(e){var n=e.copy;return e.padding=e.paddingOuter,delete e.paddingInner,delete e.paddingOuter,e.copy=function(){return Ue(n())},e}function tt(){return Ue(Xe.apply(null,arguments).paddingInner(1))}function _e(e,n,t){e.prototype=n.prototype=t,t.constructor=e}function Ve(e,n){var t=Object.create(e.prototype);for(var r in n)t[r]=n[r];return t}function Y(){}var Z=.7,te=1/Z,T=\"\\s*([+-]?\\d+)\\s*\",J=\"\\s*([+-]?(?:\\d*\\.)?\\d+(?:[eE][+-]?\\d+)?)\\s*\",j=\"\\s*([+-]?(?:\\d*\\.)?\\d+(?:[eE][+-]?\\d+)?)%\\s*\",rt=/^#([0-9a-f]{3,8})$/,it=new RegExp(`^rgb\\(${T},${T},${T}\\)$`),ft=new RegExp(`^rgb\\(${j},${j},${j}\\)$`),at=new RegExp(`^rgba\\(${T},${T},${T},${J}\\)$`),ot=new RegExp(`^rgba\\(${j},${j},${j},${J}\\)$`),ut=new RegExp(`^hsl\\(${J},${j},${j}\\)$`),lt=new RegExp(`^hsla\\(${J},${j},${j},${J}\\)$`),Ye={aliceblue:15792383,antiquewhite:16444375,aqua:65535,aquamarine:8388564,azure:15794175,beige:16119260,bisque:16770244,black:0,blanchedalmond:16772045,blue:255,blueviolet:9055202,brown:10824234,burlywood:14596231,cadetblue:6266528,chartreuse:8388352,chocolate:13789470,coral:16744272,cornflowerblue:6591981,cornsilk:16775388,crimson:14423100,cyan:65535,darkblue:139,darkcyan:35723,darkgoldenrod:12092939,darkgray:11119017,darkgreen:25600,darkgrey:11119017,darkkhaki:12433259,darkmagenta:9109643,darkolivegreen:5597999,darkorange:16747520,darkorchid:10040012,darkred:9109504,darksalmon:15308410,darkseagreen:9419919,darkslateblue:4734347,darkslategray:3100495,darkslategrey:3100495,darkturquoise:52945,darkviolet:9699539,deeppink:16716947,deepskyblue:49151,dimgray:6908265,dimgrey:6908265,dodgerblue:2003199,firebrick:11674146,floralwhite:16775920,forestgreen:2263842,fuchsia:16711935,gainsboro:14474460,ghostwhite:16316671,gold:16766720,goldenrod:14329120,gray:8421504,green:32768,greenyellow:11403055,grey:8421504,honeydew:15794160,hotpink:16738740,indianred:13458524,indigo:4915330,ivory:16777200,khaki:15787660,lavender:15132410,lavenderblush:16773365,lawngreen:8190976,lemonchiffon:16775885,lightblue:11393254,lightcoral:15761536,lightcyan:14745599,lightgoldenrodyellow:16448210,lightgray:13882323,lightgreen:9498256,lightgrey:13882323,lightpink:16758465,lightsalmon:16752762,lightseagreen:2142890,lightskyblue:8900346,lightslategray:7833753,lightslategrey:7833753,lightsteelblue:11584734,lightyellow:16777184,lime:65280,limegreen:3329330,linen:16445670,magenta:16711935,maroon:8388608,mediumaquamarine:6737322,mediumblue:205,mediumorchid:12211667,mediumpurple:9662683,mediumseagreen:3978097,mediumslateblue:8087790,mediumspringgreen:64154,mediumturquoise:4772300,mediumvioletred:13047173,midnightblue:1644912,mintcream:16121850,mistyrose:16770273,moccasin:16770229,navajowhite:16768685,navy:128,oldlace:16643558,olive:8421376,olivedrab:7048739,orange:16753920,orangered:16729344,orchid:14315734,palegoldenrod:15657130,palegreen:10025880,paleturquoise:11529966,palevioletred:14381203,papayawhip:16773077,peachpuff:16767673,peru:13468991,pink:16761035,plum:14524637,powderblue:11591910,purple:8388736,rebeccapurple:6697881,red:16711680,rosybrown:12357519,royalblue:4286945,saddlebrown:9127187,salmon:16416882,sandybrown:16032864,seagreen:3050327,seashell:16774638,sienna:10506797,silver:12632256,skyblue:8900331,slateblue:6970061,slategray:7372944,slategrey:7372944,snow:16775930,springgreen:65407,steelblue:4620980,tan:13808780,teal:32896,thistle:14204888,tomato:16737095,turquoise:4251856,violet:15631086,wheat:16113331,white:16777215,whitesmoke:16119285,yellow:16776960,yellowgreen:10145074};_e(Y,K,{copy(e){return Object.assign(new this.constructor,this,e)},displayable(){return this.rgb().displayable()},hex:Ze,formatHex:Ze,formatHex8:st,formatHsl:ct,formatRgb:Je,toString:Je});function Ze(){return this.rgb().formatHex()}function st(){return this.rgb().formatHex8()}function ct(){return tn(this).formatHsl()}function Je(){return this.rgb().formatRgb()}function K(e){var n,t;return e=(e+\"\").trim().toLowerCase(),(n=rt.exec(e))?(t=n[1].length,n=parseInt(n[1],16),t===6?Ke(n):t===3?new q(n>>8&15|n>>4&240,n>>4&15|n&240,(n&15)<<4|n&15,1):t===8?re(n>>24&255,n>>16&255,n>>8&255,(n&255)/255):t===4?re(n>>12&15|n>>8&240,n>>8&15|n>>4&240,n>>4&15|n&240,((n&15)<<4|n&15)/255):null):(n=it.exec(e))?new q(n[1],n[2],n[3],1):(n=ft.exec(e))?new q(n[1]*255/100,n[2]*255/100,n[3]*255/100,1):(n=at.exec(e))?re(n[1],n[2],n[3],n[4]):(n=ot.exec(e))?re(n[1]*255/100,n[2]*255/100,n[3]*255/100,n[4]):(n=ut.exec(e))?nn(n[1],n[2]/100,n[3]/100,1):(n=lt.exec(e))?nn(n[1],n[2]/100,n[3]/100,n[4]):Ye.hasOwnProperty(e)?Ke(Ye[e]):e===\"transparent\"?new q(NaN,NaN,NaN,0):null}function Ke(e){return new q(e>>16&255,e>>8&255,e&255,1)}function re(e,n,t,r){return r<=0&&(e=n=t=NaN),new q(e,n,t,r)}function ht(e){return e instanceof Y||(e=K(e)),e?(e=e.rgb(),new q(e.r,e.g,e.b,e.opacity)):new q}function $e(e,n,t,r){return arguments.length===1?ht(e):new q(e,n,t,r==null?1:r)}function q(e,n,t,r){this.r=+e,this.g=+n,this.b=+t,this.opacity=+r}_e(q,$e,Ve(Y,{brighter(e){return e=e==null?te:Math.pow(te,e),new q(this.r*e,this.g*e,this.b*e,this.opacity)},darker(e){return e=e==null?Z:Math.pow(Z,e),new q(this.r*e,this.g*e,this.b*e,this.opacity)},rgb(){return this},clamp(){return new q(L(this.r),L(this.g),L(this.b),ie(this.opacity))},displayable(){return-.5<=this.r&&this.r<255.5&&-.5<=this.g&&this.g<255.5&&-.5<=this.b&&this.b<255.5&&0<=this.opacity&&this.opacity<=1},hex:Qe,formatHex:Qe,formatHex8:dt,formatRgb:en,toString:en}));function Qe(){return`#${O(this.r)}${O(this.g)}${O(this.b)}`}function dt(){return`#${O(this.r)}${O(this.g)}${O(this.b)}${O((isNaN(this.opacity)?1:this.opacity)*255)}`}function en(){const e=ie(this.opacity);return`${e===1?\"rgb(\":\"rgba(\"}${L(this.r)}, ${L(this.g)}, ${L(this.b)}${e===1?\")\":`, ${e})`}`}function ie(e){return isNaN(e)?1:Math.max(0,Math.min(1,e))}function L(e){return Math.max(0,Math.min(255,Math.round(e)||0))}function O(e){return e=L(e),(e<16?\"0\":\"\")+e.toString(16)}function nn(e,n,t,r){return r<=0?e=n=t=NaN:t<=0||t>=1?e=n=NaN:n<=0&&(e=NaN),new E(e,n,t,r)}function tn(e){if(e instanceof E)return new E(e.h,e.s,e.l,e.opacity);if(e instanceof Y||(e=K(e)),!e)return new E;if(e instanceof E)return e;e=e.rgb();var n=e.r/255,t=e.g/255,r=e.b/255,i=Math.min(n,t,r),a=Math.max(n,t,r),f=NaN,o=a-i,s=(a+i)/2;return o?(n===a?f=(t-r)/o+(t<r)*6:t===a?f=(r-n)/o+2:f=(n-t)/o+4,o/=s<.5?a+i:2-a-i,f*=60):o=s>0&&s<1?0:f,new E(f,o,s,e.opacity)}function gt(e,n,t,r){return arguments.length===1?tn(e):new E(e,n,t,r==null?1:r)}function E(e,n,t,r){this.h=+e,this.s=+n,this.l=+t,this.opacity=+r}_e(E,gt,Ve(Y,{brighter(e){return e=e==null?te:Math.pow(te,e),new E(this.h,this.s,this.l*e,this.opacity)},darker(e){return e=e==null?Z:Math.pow(Z,e),new E(this.h,this.s,this.l*e,this.opacity)},rgb(){var e=this.h%360+(this.h<0)*360,n=isNaN(e)||isNaN(this.s)?0:this.s,t=this.l,r=t+(t<.5?t:1-t)*n,i=2*t-r;return new q(ve(e>=240?e-240:e+120,i,r),ve(e,i,r),ve(e<120?e+240:e-120,i,r),this.opacity)},clamp(){return new E(rn(this.h),fe(this.s),fe(this.l),ie(this.opacity))},displayable(){return(0<=this.s&&this.s<=1||isNaN(this.s))&&0<=this.l&&this.l<=1&&0<=this.opacity&&this.opacity<=1},formatHsl(){const e=ie(this.opacity);return`${e===1?\"hsl(\":\"hsla(\"}${rn(this.h)}, ${fe(this.s)*100}%, ${fe(this.l)*100}%${e===1?\")\":`, ${e})`}`}}));function rn(e){return e=(e||0)%360,e<0?e+360:e}function fe(e){return Math.max(0,Math.min(1,e||0))}function ve(e,n,t){return(e<60?n+(t-n)*e/60:e<180?t:e<240?n+(t-n)*(240-e)/60:n)*255}const ke=e=>()=>e;function mt(e,n){return function(t){return e+t*n}}function pt(e,n,t){return e=Math.pow(e,t),n=Math.pow(n,t)-e,t=1/t,function(r){return Math.pow(e+r*n,t)}}function xt(e){return(e=+e)==1?fn:function(n,t){return t-n?pt(n,t,e):ke(isNaN(n)?t:n)}}function fn(e,n){var t=n-e;return t?mt(e,t):ke(isNaN(e)?n:e)}const an=function e(n){var t=xt(n);function r(i,a){var f=t((i=$e(i)).r,(a=$e(a)).r),o=t(i.g,a.g),s=t(i.b,a.b),u=fn(i.opacity,a.opacity);return function(g){return i.r=f(g),i.g=o(g),i.b=s(g),i.opacity=u(g),i+\"\"}}return r.gamma=e,r}(1);function bt(e,n){n||(n=[]);var t=e?Math.min(n.length,e.length):0,r=n.slice(),i;return function(a){for(i=0;i<t;++i)r[i]=e[i]*(1-a)+n[i]*a;return r}}function yt(e){return ArrayBuffer.isView(e)&&!(e instanceof DataView)}function wt(e,n){var t=n?n.length:0,r=e?Math.min(t,e.length):0,i=new Array(r),a=new Array(t),f;for(f=0;f<r;++f)i[f]=qe(e[f],n[f]);for(;f<t;++f)a[f]=n[f];return function(o){for(f=0;f<r;++f)a[f]=i[f](o);return a}}function _t(e,n){var t=new Date;return e=+e,n=+n,function(r){return t.setTime(e*(1-r)+n*r),t}}function ae(e,n){return e=+e,n=+n,function(t){return e*(1-t)+n*t}}function $t(e,n){var t={},r={},i;(e===null||typeof e!=\"object\")&&(e={}),(n===null||typeof n!=\"object\")&&(n={});for(i in n)i in e?t[i]=qe(e[i],n[i]):r[i]=n[i];return function(a){for(i in t)r[i]=t[i](a);return r}}var Me=/[-+]?(?:\\d+\\.?\\d*|\\.?\\d+)(?:[eE][-+]?\\d+)?/g,Ne=new RegExp(Me.source,\"g\");function vt(e){return function(){return e}}function kt(e){return function(n){return e(n)+\"\"}}function Mt(e,n){var t=Me.lastIndex=Ne.lastIndex=0,r,i,a,f=-1,o=[],s=[];for(e=e+\"\",n=n+\"\";(r=Me.exec(e))&&(i=Ne.exec(n));)(a=i.index)>t&&(a=n.slice(t,a),o[f]?o[f]+=a:o[++f]=a),(r=r[0])===(i=i[0])?o[f]?o[f]+=i:o[++f]=i:(o[++f]=null,s.push({i:f,x:ae(r,i)})),t=Ne.lastIndex;return t<n.length&&(a=n.slice(t),o[f]?o[f]+=a:o[++f]=a),o.length<2?s[0]?kt(s[0].x):vt(n):(n=s.length,function(u){for(var g=0,c;g<n;++g)o[(c=s[g]).i]=c.x(u);return o.join(\"\")})}function qe(e,n){var t=typeof n,r;return n==null||t===\"boolean\"?ke(n):(t===\"number\"?ae:t===\"string\"?(r=K(n))?(n=r,an):Mt:n instanceof K?an:n instanceof Date?_t:yt(n)?bt:Array.isArray(n)?wt:typeof n.valueOf!=\"function\"&&typeof n.toString!=\"function\"||isNaN(n)?$t:ae)(e,n)}function Nt(e,n){return e=+e,n=+n,function(t){return Math.round(e*(1-t)+n*t)}}function qt(e){return function(){return e}}function At(e){return+e}var on=[0,1];function D(e){return e}function Ae(e,n){return(n-=e=+e)?function(t){return(t-e)/n}:qt(isNaN(n)?NaN:.5)}function Rt(e,n){var t;return e>n&&(t=e,e=n,n=t),function(r){return Math.max(e,Math.min(n,r))}}function Et(e,n,t){var r=e[0],i=e[1],a=n[0],f=n[1];return i<r?(r=Ae(i,r),a=t(f,a)):(r=Ae(r,i),a=t(a,f)),function(o){return a(r(o))}}function St(e,n,t){var r=Math.min(e.length,n.length)-1,i=new Array(r),a=new Array(r),f=-1;for(e[r]<e[0]&&(e=e.slice().reverse(),n=n.slice().reverse());++f<r;)i[f]=Ae(e[f],e[f+1]),a[f]=t(n[f],n[f+1]);return function(o){var s=Xn(e,o,1,r)-1;return a[s](i[s](o))}}function jt(e,n){return n.domain(e.domain()).range(e.range()).interpolate(e.interpolate()).clamp(e.clamp()).unknown(e.unknown())}function It(){var e=on,n=on,t=qe,r,i,a,f=D,o,s,u;function g(){var d=Math.min(e.length,n.length);return f!==D&&(f=Rt(e[0],e[d-1])),o=d>2?St:Et,s=u=null,c}function c(d){return d==null||isNaN(d=+d)?a:(s||(s=o(e.map(r),n,t)))(r(f(d)))}return c.invert=function(d){return f(i((u||(u=o(n,e.map(r),ae)))(d)))},c.domain=function(d){return arguments.length?(e=Array.from(d,At),g()):e.slice()},c.range=function(d){return arguments.length?(n=Array.from(d),g()):n.slice()},c.rangeRound=function(d){return n=Array.from(d),t=Nt,g()},c.clamp=function(d){return arguments.length?(f=d?!0:D,g()):f!==D},c.interpolate=function(d){return arguments.length?(t=d,g()):t},c.unknown=function(d){return arguments.length?(a=d,c):a},function(d,v){return r=d,i=v,g()}}function Ht(){return It()(D,D)}function Pt(e){return Math.abs(e=Math.round(e))>=1e21?e.toLocaleString(\"en\").replace(/,/g,\"\"):e.toString(10)}function oe(e,n){if((t=(e=n?e.toExponential(n-1):e.toExponential()).indexOf(\"e\"))<0)return null;var t,r=e.slice(0,t);return[r.length>1?r[0]+r.slice(2):r,+e.slice(t+1)]}function G(e){return e=oe(Math.abs(e)),e?e[1]:NaN}function Lt(e,n){return function(t,r){for(var i=t.length,a=[],f=0,o=e[0],s=0;i>0&&o>0&&(s+o+1>r&&(o=Math.max(1,r-s)),a.push(t.substring(i-=o,i+o)),!((s+=o+1)>r));)o=e[f=(f+1)%e.length];return a.reverse().join(n)}}function Ot(e){return function(n){return n.replace(/[0-9]/g,function(t){return e[+t]})}}var zt=/^(?:(.)?([<>=^]))?([+\\-( ])?([$#])?(0)?(\\d+)?(,)?(\\.\\d+)?(~)?([a-z%])?$/i;function ue(e){if(!(n=zt.exec(e)))throw new Error(\"invalid format: \"+e);var n;return new Re({fill:n[1],align:n[2],sign:n[3],symbol:n[4],zero:n[5],width:n[6],comma:n[7],precision:n[8]&&n[8].slice(1),trim:n[9],type:n[10]})}ue.prototype=Re.prototype;function Re(e){this.fill=e.fill===void 0?\" \":e.fill+\"\",this.align=e.align===void 0?\">\":e.align+\"\",this.sign=e.sign===void 0?\"-\":e.sign+\"\",this.symbol=e.symbol===void 0?\"\":e.symbol+\"\",this.zero=!!e.zero,this.width=e.width===void 0?void 0:+e.width,this.comma=!!e.comma,this.precision=e.precision===void 0?void 0:+e.precision,this.trim=!!e.trim,this.type=e.type===void 0?\"\":e.type+\"\"}Re.prototype.toString=function(){return this.fill+this.align+this.sign+this.symbol+(this.zero?\"0\":\"\")+(this.width===void 0?\"\":Math.max(1,this.width|0))+(this.comma?\",\":\"\")+(this.precision===void 0?\"\":\".\"+Math.max(0,this.precision|0))+(this.trim?\"~\":\"\")+this.type};function Ct(e){e:for(var n=e.length,t=1,r=-1,i;t<n;++t)switch(e[t]){case\".\":r=i=t;break;case\"0\":r===0&&(r=t),i=t;break;default:if(!+e[t])break e;r>0&&(r=0);break}return r>0?e.slice(0,r)+e.slice(i+1):e}var un;function Ft(e,n){var t=oe(e,n);if(!t)return e+\"\";var r=t[0],i=t[1],a=i-(un=Math.max(-8,Math.min(8,Math.floor(i/3)))*3)+1,f=r.length;return a===f?r:a>f?r+new Array(a-f+1).join(\"0\"):a>0?r.slice(0,a)+\".\"+r.slice(a):\"0.\"+new Array(1-a).join(\"0\")+oe(e,Math.max(0,n+a-1))[0]}function ln(e,n){var t=oe(e,n);if(!t)return e+\"\";var r=t[0],i=t[1];return i<0?\"0.\"+new Array(-i).join(\"0\")+r:r.length>i+1?r.slice(0,i+1)+\".\"+r.slice(i+1):r+new Array(i-r.length+2).join(\"0\")}const sn={\"%\":(e,n)=>(e*100).toFixed(n),b:e=>Math.round(e).toString(2),c:e=>e+\"\",d:Pt,e:(e,n)=>e.toExponential(n),f:(e,n)=>e.toFixed(n),g:(e,n)=>e.toPrecision(n),o:e=>Math.round(e).toString(8),p:(e,n)=>ln(e*100,n),r:ln,s:Ft,X:e=>Math.round(e).toString(16).toUpperCase(),x:e=>Math.round(e).toString(16)};function cn(e){return e}var hn=Array.prototype.map,dn=[\"y\",\"z\",\"a\",\"f\",\"p\",\"n\",\"µ\",\"m\",\"\",\"k\",\"M\",\"G\",\"T\",\"P\",\"E\",\"Z\",\"Y\"];function Bt(e){var n=e.grouping===void 0||e.thousands===void 0?cn:Lt(hn.call(e.grouping,Number),e.thousands+\"\"),t=e.currency===void 0?\"\":e.currency[0]+\"\",r=e.currency===void 0?\"\":e.currency[1]+\"\",i=e.decimal===void 0?\".\":e.decimal+\"\",a=e.numerals===void 0?cn:Ot(hn.call(e.numerals,String)),f=e.percent===void 0?\"%\":e.percent+\"\",o=e.minus===void 0?\"−\":e.minus+\"\",s=e.nan===void 0?\"NaN\":e.nan+\"\";function u(c){c=ue(c);var d=c.fill,v=c.align,x=c.sign,k=c.symbol,b=c.zero,_=c.width,$=c.comma,m=c.precision,y=c.trim,l=c.type;l===\"n\"?($=!0,l=\"g\"):sn[l]||(m===void 0&&(m=12),y=!0,l=\"g\"),(b||d===\"0\"&&v===\"=\")&&(b=!0,d=\"0\",v=\"=\");var w=k===\"$\"?t:k===\"#\"&&/[boxX]/.test(l)?\"0\"+l.toLowerCase():\"\",Jt=k===\"$\"?r:/[%p]/.test(l)?f:\"\",vn=sn[l],Kt=/[defgprs%]/.test(l);m=m===void 0?6:/[gprs]/.test(l)?Math.max(1,Math.min(21,m)):Math.max(0,Math.min(20,m));function kn(p){var z=w,R=Jt,X,Mn,ce;if(l===\"c\")R=vn(p)+R,p=\"\";else{p=+p;var he=p<0||1/p<0;if(p=isNaN(p)?s:vn(Math.abs(p),m),y&&(p=Ct(p)),he&&+p==0&&x!==\"+\"&&(he=!1),z=(he?x===\"(\"?x:o:x===\"-\"||x===\"(\"?\"\":x)+z,R=(l===\"s\"?dn[8+un/3]:\"\")+R+(he&&x===\"(\"?\")\":\"\"),Kt){for(X=-1,Mn=p.length;++X<Mn;)if(ce=p.charCodeAt(X),48>ce||ce>57){R=(ce===46?i+p.slice(X+1):p.slice(X))+R,p=p.slice(0,X);break}}}$&&!b&&(p=n(p,1/0));var de=z.length+p.length+R.length,H=de<_?new Array(_-de+1).join(d):\"\";switch($&&b&&(p=n(H+p,H.length?_-R.length:1/0),H=\"\"),v){case\"<\":p=z+p+R+H;break;case\"=\":p=z+H+p+R;break;case\"^\":p=H.slice(0,de=H.length>>1)+z+p+R+H.slice(de);break;default:p=H+z+p+R;break}return a(p)}return kn.toString=function(){return c+\"\"},kn}function g(c,d){var v=u((c=ue(c),c.type=\"f\",c)),x=Math.max(-8,Math.min(8,Math.floor(G(d)/3)))*3,k=Math.pow(10,-x),b=dn[8+x/3];return function(_){return v(k*_)+b}}return{format:u,formatPrefix:g}}var le,gn,mn;Tt({thousands:\",\",grouping:[3],currency:[\"$\",\"\"]});function Tt(e){return le=Bt(e),gn=le.format,mn=le.formatPrefix,le}function Dt(e){return Math.max(0,-G(Math.abs(e)))}function Gt(e,n){return Math.max(0,Math.max(-8,Math.min(8,Math.floor(G(n)/3)))*3-G(Math.abs(e)))}function Wt(e,n){return e=Math.abs(e),n=Math.abs(n)-e,Math.max(0,G(n)-G(e))+1}function Xt(e,n,t,r){var i=et(e,n,t),a;switch(r=ue(r==null?\",f\":r),r.type){case\"s\":{var f=Math.max(Math.abs(e),Math.abs(n));return r.precision==null&&!isNaN(a=Gt(i,f))&&(r.precision=a),mn(r,f)}case\"\":case\"e\":case\"g\":case\"p\":case\"r\":{r.precision==null&&!isNaN(a=Wt(i,Math.max(Math.abs(e),Math.abs(n))))&&(r.precision=a-(r.type===\"e\"));break}case\"f\":case\"%\":{r.precision==null&&!isNaN(a=Dt(i))&&(r.precision=a-(r.type===\"%\")*2);break}}return gn(r)}function Ut(e){var n=e.domain;return e.ticks=function(t){var r=n();return Qn(r[0],r[r.length-1],t==null?10:t)},e.tickFormat=function(t,r){var i=n();return Xt(i[0],i[i.length-1],t==null?10:t,r)},e.nice=function(t){t==null&&(t=10);var r=n(),i=0,a=r.length-1,f=r[i],o=r[a],s,u,g=10;for(o<f&&(u=f,f=o,o=u,u=i,i=a,a=u);g-- >0;){if(u=ye(f,o,t),u===s)return r[i]=f,r[a]=o,n(r);if(u>0)f=Math.floor(f/u)*u,o=Math.ceil(o/u)*u;else if(u<0)f=Math.ceil(f*u)/u,o=Math.floor(o*u)/u;else break;s=u}return e},e}function pn(){var e=Ht();return e.copy=function(){return jt(e,pn())},we.apply(e,arguments),Ut(e)}const er=\"\";function xn(e,n,t){const r=e.slice();return r[6]=n[t],r[8]=t,r}function bn(e,n,t){const r=e.slice();return r[9]=n[t],r[8]=t,r}function yn(e){let n,t,r,i,a;return{c(){n=N(\"text\"),t=P(e[9]),r=N(\"tspan\"),i=P(\"layer\"),h(r,\"dx\",\"5\"),h(r,\"class\",\"svelte-1qqr5fm\"),h(n,\"x\",se*.01),h(n,\"y\",a=e[2](e[8]*2)),h(n,\"class\",\"svelte-1qqr5fm\")},m(f,o){I(f,n,o),M(n,t),M(n,r),M(r,i)},p(f,o){o&4&&a!==(a=f[2](f[8]*2))&&h(n,\"y\",a)},d(f){f&&S(n)}}}function wn(e){let n,t;return{c(){n=N(\"path\"),h(n,\"d\",t=`M${e[3](e[8])+20}, ${e[2](2)} L${e[3](e[8]+1)-A*1.5},${e[2](2)}`),h(n,\"stroke\",\"black\"),h(n,\"fill\",\"none\"),h(n,\"marker-end\",\"url(#arrow)\"),h(n,\"class\",\"svelte-1qqr5fm\")},m(r,i){I(r,n,i)},p(r,i){i&12&&t!==(t=`M${r[3](r[8])+20}, ${r[2](2)} L${r[3](r[8]+1)-A*1.5},${r[2](2)}`)&&h(n,\"d\",t)},d(r){r&&S(n)}}}function _n(e){let n,t,r=e[6]+\"\",i,a,f,o,s,u,g,c=(e[1][e[8]+1]?e[1][e[8]+1]:\"<prediction>\")+\"\",d,v,x,k,b,_,$,m,y=e[1][e[8]+1]&&wn(e);return{c(){n=N(\"g\"),t=N(\"text\"),i=P(r),f=N(\"g\"),o=N(\"rect\"),u=N(\"g\"),g=N(\"text\"),d=P(c),k=N(\"path\"),_=N(\"path\"),y&&y.c(),m=Pe(),h(t,\"text-anchor\",\"middle\"),h(t,\"dx\",A/2),h(t,\"dy\",0),h(t,\"class\",\"svelte-1qqr5fm\"),h(n,\"transform\",a=`translate(${e[3](e[8])}, ${e[2](0)})`),h(n,\"class\",\"svelte-1qqr5fm\"),h(o,\"y\",-30),h(o,\"x\",-5),h(o,\"width\",20),h(o,\"height\",60),h(o,\"fill\",\"coral\"),h(o,\"class\",\"svelte-1qqr5fm\"),h(f,\"transform\",s=`translate(${e[3](e[8])}, ${e[2](2)})`),h(f,\"class\",\"svelte-1qqr5fm\"),h(g,\"fill\",v=e[1][e[8]+1]?\"black\":\"red\"),h(g,\"text-anchor\",\"middle\"),h(g,\"dx\",A/2),h(g,\"dy\",0),h(g,\"class\",\"svelte-1qqr5fm\"),h(u,\"transform\",x=`translate(${e[3](e[8])}, ${e[2](4)})`),h(u,\"class\",\"svelte-1qqr5fm\"),h(k,\"d\",b=`M${e[3](e[8])+A/2},${e[2](.5)+W} L${e[3](e[8])+A/2},${e[2](1.5)+W}`),h(k,\"stroke\",\"black\"),h(k,\"fill\",\"none\"),h(k,\"marker-end\",\"url(#arrow)\"),h(k,\"class\",\"svelte-1qqr5fm\"),h(_,\"d\",$=`M${e[3](e[8])+A/2},${e[2](2.5)} L${e[3](e[8])+A/2},${e[2](3.5)+W}`),h(_,\"stroke\",\"black\"),h(_,\"fill\",\"none\"),h(_,\"marker-end\",\"url(#arrow)\"),h(_,\"class\",\"svelte-1qqr5fm\")},m(l,w){I(l,n,w),M(n,t),M(t,i),I(l,f,w),M(f,o),I(l,u,w),M(u,g),M(g,d),I(l,k,w),I(l,_,w),y&&y.m(l,w),I(l,m,w)},p(l,w){w&2&&r!==(r=l[6]+\"\")&&Le(i,r),w&12&&a!==(a=`translate(${l[3](l[8])}, ${l[2](0)})`)&&h(n,\"transform\",a),w&12&&s!==(s=`translate(${l[3](l[8])}, ${l[2](2)})`)&&h(f,\"transform\",s),w&2&&c!==(c=(l[1][l[8]+1]?l[1][l[8]+1]:\"<prediction>\")+\"\")&&Le(d,c),w&2&&v!==(v=l[1][l[8]+1]?\"black\":\"red\")&&h(g,\"fill\",v),w&12&&x!==(x=`translate(${l[3](l[8])}, ${l[2](4)})`)&&h(u,\"transform\",x),w&12&&b!==(b=`M${l[3](l[8])+A/2},${l[2](.5)+W} L${l[3](l[8])+A/2},${l[2](1.5)+W}`)&&h(k,\"d\",b),w&12&&$!==($=`M${l[3](l[8])+A/2},${l[2](2.5)} L${l[3](l[8])+A/2},${l[2](3.5)+W}`)&&h(_,\"d\",$),l[1][l[8]+1]?y?y.p(l,w):(y=wn(l),y.c(),y.m(m.parentNode,m)):y&&(y.d(1),y=null)},d(l){l&&S(n),l&&S(f),l&&S(u),l&&S(k),l&&S(_),y&&y.d(l),l&&S(m)}}}function Vt(e){let n,t,r,i,a,f,o,s,u,g,c,d,v,x,k=[\"input\",\"hidden\",\"output\"],b=[];for(let m=0;m<3;m+=1)b[m]=yn(bn(e,k,m));let _=e[1],$=[];for(let m=0;m<_.length;m+=1)$[m]=_n(xn(e,_,m));return{c(){n=ge(\"section\"),t=N(\"svg\"),r=N(\"text\"),i=P(\"Basic word-level RNN:\"),a=N(\"defs\"),f=N(\"marker\"),o=N(\"path\");for(let m=0;m<3;m+=1)b[m].c();s=Pe();for(let m=0;m<$.length;m+=1)$[m].c();u=An(),g=ge(\"div\"),c=P(`Input:\n",
       "    `),d=ge(\"input\"),h(r,\"x\",\"2\"),h(r,\"y\",\"20\"),h(r,\"class\",\"svelte-1qqr5fm\"),h(o,\"d\",\"M0,0 L0,6 L9,3 z\"),h(o,\"fill\",\"#000\"),h(o,\"class\",\"svelte-1qqr5fm\"),h(f,\"id\",\"arrow\"),h(f,\"markerWidth\",\"10\"),h(f,\"markerHeight\",\"10\"),h(f,\"refX\",\"0\"),h(f,\"refY\",\"3\"),h(f,\"orient\",\"auto\"),h(f,\"markerUnits\",\"strokeWidth\"),h(f,\"class\",\"svelte-1qqr5fm\"),h(a,\"class\",\"svelte-1qqr5fm\"),h(t,\"width\",se),h(t,\"height\",$n),h(t,\"class\",\"svelte-1qqr5fm\"),h(d,\"class\",\"svelte-1qqr5fm\"),h(g,\"class\",\"svelte-1qqr5fm\"),h(n,\"class\",\"svelte-1qqr5fm\")},m(m,y){I(m,n,y),M(n,t),M(t,r),M(r,i),M(t,a),M(a,f),M(f,o);for(let l=0;l<3;l+=1)b[l]&&b[l].m(t,null);M(t,s);for(let l=0;l<$.length;l+=1)$[l]&&$[l].m(t,null);M(n,u),M(n,g),M(g,c),M(g,d),Oe(d,e[0]),v||(x=Rn(d,\"input\",e[5]),v=!0)},p(m,[y]){if(y&4){k=[\"input\",\"hidden\",\"output\"];let l;for(l=0;l<3;l+=1){const w=bn(m,k,l);b[l]?b[l].p(w,y):(b[l]=yn(w),b[l].c(),b[l].m(t,s))}for(;l<3;l+=1)b[l].d(1)}if(y&14){_=m[1];let l;for(l=0;l<_.length;l+=1){const w=xn(m,_,l);$[l]?$[l].p(w,y):($[l]=_n(w),$[l].c(),$[l].m(t,null))}for(;l<$.length;l+=1)$[l].d(1);$.length=_.length}y&1&&d.value!==m[0]&&Oe(d,m[0])},i:U,o:U,d(m){m&&S(n),He(b,m),He($,m),v=!1,x()}}}let se=600,$n=400,A=10,W=10;function Yt(e,n,t){let r,i,a,f,o=\"I like machine learning\";function s(){o=this.value,t(0,o)}return e.$$.update=()=>{e.$$.dirty&1&&t(4,r=o.replace(/[^\\w\\s]/gi,\"\").toLowerCase()),e.$$.dirty&16&&t(1,i=r.split(\" \").filter(u=>u!==\"\")),e.$$.dirty&2&&t(3,a=tt().domain(Array.from({length:i.length},(u,g)=>g)).range([se*.15,se-10]).padding(.5))},t(2,f=pn().domain([-1,5]).range([$n,0])),[o,i,f,a,r,s]}class Zt extends Bn{constructor(n){super(),Fn(this,n,Yt,Vt,Nn,{})}}return Zt}();\n",
       "</script>\n",
       "        \n",
       "        <div id=\"RNN-aba53ece\"></div>\n",
       "        <script>\n",
       "        (() => {\n",
       "            var data = 0;\n",
       "            window.RNN_data = data;\n",
       "            var RNN_inst = new RNN({\n",
       "                \"target\": document.getElementById(\"RNN-aba53ece\"),\n",
       "                \"props\": data\n",
       "            });\n",
       "        })();\n",
       "        </script>\n",
       "        \n",
       "        "
      ],
      "text/plain": [
       "<MLUDTI_EN_M2_Lab4_rnn.RNN at 0x7f0448db33a0>"
      ]
     },
     "execution_count": 19,
     "metadata": {},
     "output_type": "execute_result"
    }
   ],
   "source": [
    "RNN()"
   ]
  },
  {
   "cell_type": "markdown",
   "metadata": {},
   "source": [
    "## Setting-up the Recurrent Neural Network model\n",
    "\n",
    "The model is made of these layers:\n",
    "- Embedding layer: \n",
    "    - Words/tokens are mapped to word vectors\n",
    "- RNN layer: \n",
    "    - A simple RNN model\n",
    "    - Stack 2 RNN layers\n",
    "    - For more details about the RNN read the [PyTorch RNN](https://pytorch.org/docs/stable/generated/torch.nn.RNN.html) documentation\n",
    "- Linear layer: \n",
    "    - A linear layer with two neurons (for two output classes) is used to output the `isPositive` prediction"
   ]
  },
  {
   "cell_type": "code",
   "execution_count": 20,
   "metadata": {
    "ExecuteTime": {
     "end_time": "2021-01-09T05:04:29.892791Z",
     "start_time": "2021-01-09T05:04:29.881808Z"
    },
    "tags": []
   },
   "outputs": [],
   "source": [
    "class Net(nn.Module):\n",
    "    def __init__(self, vocab_size, embed_size, hidden_size, num_classes, num_layers=1):\n",
    "        super().__init__()\n",
    "        self.embedding = nn.Embedding(vocab_size, embed_size, padding_idx=1)\n",
    "        self.rnn = nn.RNN(\n",
    "            embed_size, hidden_size, num_layers=num_layers, batch_first=True\n",
    "        )\n",
    "\n",
    "        self.linear = nn.Linear(hidden_size, num_classes)\n",
    "\n",
    "    def forward(self, inputs):\n",
    "        embeddings = self.embedding(inputs)\n",
    "        # Call the RNN layer\n",
    "        outputs, _ = self.rnn(embeddings)\n",
    "        \n",
    "        # Output shape after RNN: (batch_size, max_len, hidden_size)\n",
    "        # Get the output from the last time step with outputs[:, -1, :] below\n",
    "        # The output shape becomes: (batch_size, 1, hidden_size)\n",
    "        # Send it through the linear layer\n",
    "        return self.linear(outputs[:, -1, :])\n",
    "    \n",
    "# Initialize the weights\n",
    "def init_weights(m):\n",
    "    if type(m) == nn.Linear:\n",
    "        nn.init.xavier_uniform_(m.weight)\n",
    "    if type(m) == nn.RNN:\n",
    "        for param in m._flat_weights_names:\n",
    "            if \"weight\" in param:\n",
    "                nn.init.xavier_uniform_(m._parameters[param])"
   ]
  },
  {
   "cell_type": "markdown",
   "metadata": {},
   "source": [
    "Now you can initialize the network and then make the embedding layer use the GloVe word vectors."
   ]
  },
  {
   "cell_type": "code",
   "execution_count": 21,
   "metadata": {
    "ExecuteTime": {
     "end_time": "2021-01-09T05:04:29.902048Z",
     "start_time": "2021-01-09T05:04:29.899284Z"
    },
    "tags": []
   },
   "outputs": [],
   "source": [
    "# Our architecture with 2 RNN layers\n",
    "model = Net(vocab_size, embed_size, hidden_size,\n",
    "            num_classes=2, num_layers=2)\n",
    "\n",
    "# We set the embedding layer's parameters from GloVe\n",
    "model.embedding.weight.data.copy_(embedding_matrix)\n",
    "# We won't change/train the embedding layer\n",
    "model.embedding.weight.requires_grad = False"
   ]
  },
  {
   "cell_type": "markdown",
   "metadata": {},
   "source": [
    "## Training and testing the model\n",
    "\n",
    "You are now ready to train the model. To do this, first define the evaluation and training functions."
   ]
  },
  {
   "cell_type": "code",
   "execution_count": 22,
   "metadata": {
    "ExecuteTime": {
     "end_time": "2021-01-09T05:04:29.906415Z",
     "start_time": "2021-01-09T05:04:29.903716Z"
    },
    "tags": []
   },
   "outputs": [
    {
     "name": "stdout",
     "output_type": "stream",
     "text": [
      "Classification Accuracy: 0.5711206896551724\n"
     ]
    }
   ],
   "source": [
    "def accuracy(y_hat, y):  \n",
    "    \"\"\"Compute the number of correct predictions.\"\"\"\n",
    "    pred = torch.argmax(y_hat, axis=1)\n",
    "    return torch.sum(pred == y)\n",
    "\n",
    "def eval_accuracy(net, data_loader):\n",
    "    # Use accumulator to keep track of metrics: correct predictions, num of predictions\n",
    "    metric = d2l.Accumulator(2)\n",
    "    \n",
    "    net.eval()\n",
    "    for X, y in data_loader:\n",
    "        y_hat = net(X)\n",
    "        metric.add(accuracy(y_hat, y), y.numel())\n",
    "\n",
    "    return metric[0] / metric[1]\n",
    "\n",
    "print(\"Classification Accuracy:\", eval_accuracy(model, val_loader))"
   ]
  },
  {
   "cell_type": "markdown",
   "metadata": {},
   "source": [
    "Finally! It is time to start the training process! \n",
    "\n",
    "To help see what is happening, after each epoch the cross-entropy loss will be printed."
   ]
  },
  {
   "cell_type": "code",
   "execution_count": 23,
   "metadata": {
    "tags": []
   },
   "outputs": [],
   "source": [
    "# Train the network\n",
    "def train_net(net, train_loader, test_loader, num_epochs=1, lr=0.001):\n",
    "    \n",
    "    net.apply(init_weights)\n",
    "    loss = nn.CrossEntropyLoss()\n",
    "    trainer = torch.optim.SGD(net.parameters(), lr=lr)\n",
    "    \n",
    "    # Collect training times for each epoch\n",
    "    train_times = []\n",
    "    # Collect train losses after each epoch\n",
    "    train_losses = []\n",
    "    # Collect train and test accuracy\n",
    "    train_accs, test_accs = [], []\n",
    "\n",
    "    net.train()\n",
    "    for epoch in range(num_epochs):\n",
    "        train_loss = 0\n",
    "        metric = d2l.Accumulator(3)\n",
    "        \n",
    "        timer = d2l.Timer()\n",
    "        timer.start()\n",
    "        # Training loop\n",
    "        for X, y in train_loader:\n",
    "            # Compute gradients and update parameters\n",
    "            y_hat = net(X)\n",
    "            l = loss(y_hat, y)\n",
    "            trainer.zero_grad()\n",
    "            l.backward()\n",
    "            trainer.step()\n",
    "            metric.add(l.item() * len(y), accuracy(y_hat, y), y.numel())\n",
    "            train_loss, train_acc = metric[0]/metric[2], metric[1]/metric[2]\n",
    "        timer.stop()\n",
    "        \n",
    "        # Store training times   \n",
    "        train_times.append(timer.sum())            \n",
    "        # Store the loss after one epoch of training    \n",
    "        train_losses.append(train_loss)   \n",
    "        # Store the train accuracy\n",
    "        train_accs.append(train_acc)\n",
    "        # Compute the test accuracy after one epoch\n",
    "        test_acc = eval_accuracy(net, test_loader)\n",
    "        test_accs.append(test_acc)\n",
    "        \n",
    "        print(f'epoch {epoch+1}, Train loss {train_loss:.4f}, Train accuracy {train_acc:.4f}, Val accuracy {test_acc:.4f},  Training time (s) {timer.sum():.4f}')\n",
    "\n",
    "    return train_losses, train_accs, test_accs\n"
   ]
  },
  {
   "cell_type": "markdown",
   "metadata": {},
   "source": [
    "To add clarity, define a function to plot the losses and accuracies."
   ]
  },
  {
   "cell_type": "code",
   "execution_count": 24,
   "metadata": {
    "tags": []
   },
   "outputs": [],
   "source": [
    "# Plot the training losses\n",
    "def plot_losses(train_losses, train_accs, test_accs):\n",
    "    \n",
    "    plt.plot(train_losses, label=\"Training Loss\")\n",
    "    plt.title(\"Loss values\")\n",
    "    plt.xlabel(\"Epoch\")\n",
    "    plt.ylabel(\"Loss\")\n",
    "    plt.legend()\n",
    "    plt.show()\n",
    "    \n",
    "    plt.plot(train_accs, \"g\", label=\"Train Accuracy\")\n",
    "    plt.plot(test_accs, \"red\", label=\"Validation Accuracy\")\n",
    "    plt.title(\"Accuracy values\")\n",
    "    plt.xlabel(\"Epoch\")\n",
    "    plt.ylabel(\"Accuracy\")\n",
    "    plt.legend()\n",
    "    plt.show()"
   ]
  },
  {
   "cell_type": "markdown",
   "metadata": {},
   "source": [
    "Now you can use the plotting function to display the results."
   ]
  },
  {
   "cell_type": "code",
   "execution_count": 27,
   "metadata": {
    "tags": []
   },
   "outputs": [
    {
     "name": "stdout",
     "output_type": "stream",
     "text": [
      "epoch 1, Train loss 0.6737, Train accuracy 0.5962, Val accuracy 0.6334,  Training time (s) 25.0097\n",
      "epoch 2, Train loss 0.6307, Train accuracy 0.6282, Val accuracy 0.6510,  Training time (s) 23.8268\n",
      "epoch 3, Train loss 0.6073, Train accuracy 0.6513, Val accuracy 0.6756,  Training time (s) 21.8144\n",
      "epoch 4, Train loss 0.5755, Train accuracy 0.6876, Val accuracy 0.7062,  Training time (s) 23.3669\n",
      "epoch 5, Train loss 0.5506, Train accuracy 0.7116, Val accuracy 0.7223,  Training time (s) 21.1967\n",
      "epoch 6, Train loss 0.5340, Train accuracy 0.7265, Val accuracy 0.7311,  Training time (s) 21.8558\n",
      "epoch 7, Train loss 0.5211, Train accuracy 0.7372, Val accuracy 0.7412,  Training time (s) 23.5484\n",
      "epoch 8, Train loss 0.5103, Train accuracy 0.7453, Val accuracy 0.7480,  Training time (s) 22.2668\n",
      "epoch 9, Train loss 0.5007, Train accuracy 0.7517, Val accuracy 0.7516,  Training time (s) 23.9547\n",
      "epoch 10, Train loss 0.4922, Train accuracy 0.7576, Val accuracy 0.7523,  Training time (s) 24.0477\n",
      "epoch 11, Train loss 0.4850, Train accuracy 0.7602, Val accuracy 0.7581,  Training time (s) 25.1480\n",
      "epoch 12, Train loss 0.4789, Train accuracy 0.7635, Val accuracy 0.7599,  Training time (s) 23.7241\n",
      "epoch 13, Train loss 0.4736, Train accuracy 0.7675, Val accuracy 0.7606,  Training time (s) 23.2338\n",
      "epoch 14, Train loss 0.4690, Train accuracy 0.7707, Val accuracy 0.7624,  Training time (s) 22.1231\n",
      "epoch 15, Train loss 0.4649, Train accuracy 0.7730, Val accuracy 0.7635,  Training time (s) 22.7813\n",
      "epoch 16, Train loss 0.4614, Train accuracy 0.7751, Val accuracy 0.7638,  Training time (s) 24.3656\n",
      "epoch 17, Train loss 0.4582, Train accuracy 0.7771, Val accuracy 0.7656,  Training time (s) 23.3363\n",
      "epoch 18, Train loss 0.4553, Train accuracy 0.7785, Val accuracy 0.7653,  Training time (s) 21.9610\n",
      "epoch 19, Train loss 0.4527, Train accuracy 0.7800, Val accuracy 0.7672,  Training time (s) 26.0922\n",
      "epoch 20, Train loss 0.4503, Train accuracy 0.7809, Val accuracy 0.7681,  Training time (s) 23.9017\n",
      "epoch 21, Train loss 0.4480, Train accuracy 0.7822, Val accuracy 0.7694,  Training time (s) 22.4882\n",
      "epoch 22, Train loss 0.4459, Train accuracy 0.7839, Val accuracy 0.7719,  Training time (s) 21.7277\n",
      "epoch 23, Train loss 0.4440, Train accuracy 0.7850, Val accuracy 0.7728,  Training time (s) 23.2105\n",
      "epoch 24, Train loss 0.4421, Train accuracy 0.7861, Val accuracy 0.7741,  Training time (s) 23.8216\n",
      "epoch 25, Train loss 0.4404, Train accuracy 0.7873, Val accuracy 0.7760,  Training time (s) 21.7372\n",
      "epoch 26, Train loss 0.4387, Train accuracy 0.7884, Val accuracy 0.7777,  Training time (s) 22.4759\n",
      "epoch 27, Train loss 0.4371, Train accuracy 0.7896, Val accuracy 0.7784,  Training time (s) 24.0132\n",
      "epoch 28, Train loss 0.4356, Train accuracy 0.7911, Val accuracy 0.7796,  Training time (s) 23.0289\n",
      "epoch 29, Train loss 0.4341, Train accuracy 0.7922, Val accuracy 0.7798,  Training time (s) 23.0825\n",
      "epoch 30, Train loss 0.4327, Train accuracy 0.7927, Val accuracy 0.7805,  Training time (s) 25.0266\n",
      "epoch 31, Train loss 0.4314, Train accuracy 0.7931, Val accuracy 0.7820,  Training time (s) 23.4374\n",
      "epoch 32, Train loss 0.4301, Train accuracy 0.7936, Val accuracy 0.7832,  Training time (s) 20.9125\n",
      "epoch 33, Train loss 0.4288, Train accuracy 0.7943, Val accuracy 0.7834,  Training time (s) 23.3467\n",
      "epoch 34, Train loss 0.4276, Train accuracy 0.7954, Val accuracy 0.7850,  Training time (s) 21.5284\n",
      "epoch 35, Train loss 0.4264, Train accuracy 0.7960, Val accuracy 0.7852,  Training time (s) 22.5457\n",
      "epoch 36, Train loss 0.4252, Train accuracy 0.7967, Val accuracy 0.7856,  Training time (s) 22.3928\n",
      "epoch 37, Train loss 0.4240, Train accuracy 0.7974, Val accuracy 0.7863,  Training time (s) 22.4441\n",
      "epoch 38, Train loss 0.4229, Train accuracy 0.7981, Val accuracy 0.7868,  Training time (s) 22.5231\n",
      "epoch 39, Train loss 0.4218, Train accuracy 0.7986, Val accuracy 0.7879,  Training time (s) 23.1061\n",
      "epoch 40, Train loss 0.4207, Train accuracy 0.7992, Val accuracy 0.7875,  Training time (s) 20.4278\n",
      "epoch 41, Train loss 0.4196, Train accuracy 0.7995, Val accuracy 0.7872,  Training time (s) 21.3185\n",
      "epoch 42, Train loss 0.4186, Train accuracy 0.8002, Val accuracy 0.7874,  Training time (s) 21.1313\n",
      "epoch 43, Train loss 0.4175, Train accuracy 0.8009, Val accuracy 0.7875,  Training time (s) 23.1008\n",
      "epoch 44, Train loss 0.4167, Train accuracy 0.8012, Val accuracy 0.7881,  Training time (s) 23.0694\n",
      "epoch 45, Train loss 0.4154, Train accuracy 0.8020, Val accuracy 0.7879,  Training time (s) 24.1807\n"
     ]
    },
    {
     "data": {
      "image/png": "[encoded data removed]",
      "text/plain": [
       "<Figure size 640x480 with 1 Axes>"
      ]
     },
     "metadata": {},
     "output_type": "display_data"
    },
    {
     "data": {
      "image/png": "[encoded data removed]",
      "text/plain": [
       "<Figure size 640x480 with 1 Axes>"
      ]
     },
     "metadata": {},
     "output_type": "display_data"
    },
    {
     "name": "stdout",
     "output_type": "stream",
     "text": [
      "CPU times: user 34min, sys: 34.2 s, total: 34min 34s\n",
      "Wall time: 18min 1s\n"
     ]
    }
   ],
   "source": [
    "%%time\n",
    "\n",
    "train_losses, train_accs, val_accs = train_net(model, train_loader,\n",
    "                                               val_loader, num_epochs=num_epochs,\n",
    "                                               lr=learning_rate)\n",
    "\n",
    "plot_losses(train_losses, train_accs, val_accs)"
   ]
  },
  {
   "cell_type": "markdown",
   "metadata": {},
   "source": [
    "Finally, you can use the `eval_accuracy()` function to calculate validation set performance."
   ]
  },
  {
   "cell_type": "code",
   "execution_count": 28,
   "metadata": {
    "tags": []
   },
   "outputs": [
    {
     "name": "stdout",
     "output_type": "stream",
     "text": [
      "Classification Accuracy on Validation set: 0.7878951149425287\n"
     ]
    }
   ],
   "source": [
    "print(\"Classification Accuracy on Validation set:\", eval_accuracy(model, val_loader))"
   ]
  },
  {
   "cell_type": "markdown",
   "metadata": {},
   "source": [
    "When you look at the plots, you probably noticed that the model hasn't reached a plateau for the validation set. This indicates that your model has not train long enough. With this setup, the way to have your model train longer is to increase the number of `epochs` it trains. \n",
    "\n",
    "The number of `epochs` is set in the [Using pre-trained GloVe word embeddings](#Using-pre-trained-GloVe-word-embeddings) section."
   ]
  },
  {
   "cell_type": "markdown",
   "metadata": {},
   "source": [
    "<div style=\"border: 4px solid coral; text-align: center; margin: auto;\">\n",
    "    <h2><i>Try it Yourself!</i></h2>\n",
    "    <br>\n",
    "     <p style=\"text-align:center; margin:auto;\"><img src=\"images/challenge.png\" alt=\"Challenge\" width=\"100\" /> </p></ br>\n",
    "    <p style=\" text-align: center; margin: auto;\">Increase the <code>num_epochs</code> parameter to a larger value (25, 30, ...)</p>\n",
    "    <p style=\" text-align: center; margin: auto;\">Then, re-run the notebook</p>\n",
    "    <p style=\" text-align: center; margin: auto;\">Did your <b> Validation </b> accuracy<b> improve</b>?\n",
    "    </p>\n",
    "</div>"
   ]
  },
  {
   "cell_type": "markdown",
   "metadata": {},
   "source": [
    "----\n",
    "## Conclusion\n",
    "\n",
    "RNN's are a very important tools, especially for problems involving sequential data. You have learned how to build a simple RNN and use it to solve a sample problem. If you are further interested in improving your model, you can try the following:\n",
    "- Change your hyper-parameters: Learning rate, batch size, and hidden size\n",
    "- Increase the number of layers: num_layers\n",
    "- Switch to [Gated Recurrent Units](https://pytorch.org/docs/1.9.1/generated/torch.nn.GRU.html) and [Long Sort-term Memory Networks](https://pytorch.org/docs/1.9.1/generated/torch.nn.LSTM.html).\n",
    "\n",
    "--- \n",
    "## Next Lab: Finetuning the BERT model\n",
    "\n",
    "Transformers have been extremely popular and successful models in Natural Language Processing problems. In the next lab you will learn how to use a previously trained transformer model called __\"BERT\"__ to solve a text classification problem. "
   ]
  }
 ],
 "metadata": {
  "kernelspec": {
   "display_name": "conda_pytorch_p310",
   "language": "python",
   "name": "conda_pytorch_p310"
  },
  "language_info": {
   "codemirror_mode": {
    "name": "ipython",
    "version": 3
   },
   "file_extension": ".py",
   "mimetype": "text/x-python",
   "name": "python",
   "nbconvert_exporter": "python",
   "pygments_lexer": "ipython3",
   "version": "3.10.13"
  }
 },
 "nbformat": 4,
 "nbformat_minor": 4
}
